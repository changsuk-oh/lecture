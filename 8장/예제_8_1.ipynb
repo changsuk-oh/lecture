{
  "nbformat": 4,
  "nbformat_minor": 0,
  "metadata": {
    "colab": {
      "provenance": []
    },
    "kernelspec": {
      "name": "python3",
      "display_name": "Python 3"
    },
    "language_info": {
      "name": "python"
    }
  },
  "cells": [
    {
      "cell_type": "markdown",
      "source": [
        "예제 8.1 잡음 제거 스택 오토 인코더"
      ],
      "metadata": {
        "id": "A43h2ZzdHiA8"
      }
    },
    {
      "cell_type": "code",
      "source": [
        "# 예제 8.1 스택 오토 인코더(잡음 제거)\n",
        "\n",
        "#셋업\n",
        "import tensorflow as tf\n",
        "from tensorflow.keras import Model\n",
        "from tensorflow.keras.layers import Dense\n",
        "from tensorflow.keras.datasets import mnist\n",
        "import numpy as np\n",
        "import matplotlib.pyplot as plt"
      ],
      "metadata": {
        "id": "-olc_nctwgSO"
      },
      "execution_count": null,
      "outputs": []
    },
    {
      "cell_type": "code",
      "source": [
        "# 데이터셋 준비\n",
        "(x_train, _), (x_test, _) = mnist.load_data()   # 레이블은 사용하지 않음\n",
        "\n",
        "# 데이터 정규화\n",
        "x_train = x_train / 255.\n",
        "x_test = x_test / 255."
      ],
      "metadata": {
        "id": "jngSqQyjwk-2",
        "colab": {
          "base_uri": "https://localhost:8080/"
        },
        "outputId": "43ad4c51-673d-45e1-84ca-3c65da371356"
      },
      "execution_count": null,
      "outputs": [
        {
          "output_type": "stream",
          "name": "stdout",
          "text": [
            "Downloading data from https://storage.googleapis.com/tensorflow/tf-keras-datasets/mnist.npz\n",
            "11490434/11490434 [==============================] - 1s 0us/step\n"
          ]
        }
      ]
    },
    {
      "cell_type": "code",
      "source": [
        "# 2차원 이미지를 1차원 벡터로 변환\n",
        "x_train = x_train.reshape(x_train.shape[0], 28 * 28)\n",
        "x_test = x_test.reshape(x_test.shape[0], 28 * 28)\n",
        "\n",
        "print(x_train.shape)\n",
        "print(x_test.shape)"
      ],
      "metadata": {
        "colab": {
          "base_uri": "https://localhost:8080/"
        },
        "outputId": "cb93265b-fa35-47af-e7fc-3237f7adb875",
        "id": "YIB1InQ0_YTZ"
      },
      "execution_count": null,
      "outputs": [
        {
          "output_type": "stream",
          "name": "stdout",
          "text": [
            "(60000, 784)\n",
            "(10000, 784)\n"
          ]
        }
      ]
    },
    {
      "cell_type": "code",
      "source": [
        "# 잡음 추가(평균 0/표준편차 0.5)/잡음 추가한 결과 조정(0 ~ 1)\n",
        "noise = np.random.normal(loc=0, scale=0.5, size=x_train.shape)\n",
        "x_train_noise = x_train + noise\n",
        "\n",
        "noise = np.random.normal(loc=0, scale=0.5, size=x_test.shape)\n",
        "x_test_noise = x_test + noise\n",
        "\n",
        "x_train_noise = np.clip(x_train_noise, a_min=0, a_max=1)\n",
        "x_test_noise = np.clip(x_test_noise, a_min=0, a_max=1)"
      ],
      "metadata": {
        "id": "1U_KGggdwnLR"
      },
      "execution_count": null,
      "outputs": []
    },
    {
      "cell_type": "code",
      "source": [
        "# 인코더 정의\n",
        "class Encoder(Model):\n",
        "    def __init__(self, latent_dim):\n",
        "        super(Encoder, self).__init__()\n",
        "        self.dense1 = Dense(units=latent_dim * 2, activation='ReLU')\n",
        "        self.dense2 = Dense(units=latent_dim, activation='ReLU')\n",
        "\n",
        "    def call(self, x):\n",
        "        x = self.dense1(x)\n",
        "        x = self.dense2(x)\n",
        "        return x"
      ],
      "metadata": {
        "id": "mlYS8lLnwpVZ"
      },
      "execution_count": null,
      "outputs": []
    },
    {
      "cell_type": "code",
      "source": [
        "# 디코더 정의\n",
        "class Decoder(Model):\n",
        "    def __init__(self, latent_dim):\n",
        "        super(Decoder, self).__init__()\n",
        "        self.dense1 = Dense(units=latent_dim * 2, activation='ReLU')\n",
        "        self.dense2 = Dense(units=28 * 28, activation='sigmoid')\n",
        "\n",
        "    def call(self, x):\n",
        "        x = self.dense1(x)\n",
        "        x = self.dense2(x)\n",
        "        return x"
      ],
      "metadata": {
        "id": "b7gHPY--wrlX"
      },
      "execution_count": null,
      "outputs": []
    },
    {
      "cell_type": "code",
      "source": [
        "# 스택 오토 인코더 정의\n",
        "class StackAutoEncoder(Model):\n",
        "    def __init__(self, latent_dim):\n",
        "        super(StackAutoEncoder, self).__init__()\n",
        "        #self.loss = []\n",
        "        self.encoder = Encoder(latent_dim)\n",
        "        self.decoder = Decoder(latent_dim)\n",
        "\n",
        "    def call(self, inputs):\n",
        "        x = self.encoder(inputs)\n",
        "        x = self.decoder(x)\n",
        "        return x\n",
        "\n",
        "# 모델 생성\n",
        "model = StackAutoEncoder(latent_dim=32)"
      ],
      "metadata": {
        "id": "bhf2ay38wtyS"
      },
      "execution_count": null,
      "outputs": []
    },
    {
      "cell_type": "code",
      "source": [
        "# 모델 컴파일\n",
        "model.compile(optimizer='adam', loss='mse')"
      ],
      "metadata": {
        "id": "Dc0hf403wv79"
      },
      "execution_count": null,
      "outputs": []
    },
    {
      "cell_type": "code",
      "source": [
        "# 모델 학습\n",
        "history = model.fit(x_train_noise, x_train, batch_size=32, epochs=10,\n",
        "                    verbose=0)"
      ],
      "metadata": {
        "id": "3ZnLhwoOVlN8"
      },
      "execution_count": null,
      "outputs": []
    },
    {
      "cell_type": "code",
      "source": [
        "# 학습 결과 시각화\n",
        "plt.plot(range(1, len(history.history['loss']) + 1),\n",
        "         history.history['loss'], color='black')\n",
        "plt.title('Loss')\n",
        "\n",
        "plt.show()"
      ],
      "metadata": {
        "colab": {
          "base_uri": "https://localhost:8080/",
          "height": 452
        },
        "outputId": "79683354-42ad-4f35-eba5-4eba48844c32",
        "id": "rnQmzUd1_QA4"
      },
      "execution_count": null,
      "outputs": [
        {
          "output_type": "display_data",
          "data": {
            "text/plain": [
              "<Figure size 640x480 with 1 Axes>"
            ],
            "image/png": "[encoded data removed]"
          },
          "metadata": {}
        }
      ]
    },
    {
      "cell_type": "code",
      "source": [
        "# 원본 이미지/잡음 추가 이미지/재구성 이미지 시각화\n",
        "plt.figure(figsize=(10, 5))\n",
        "\n",
        "for i in range(5):\n",
        "\n",
        "    # 원본 이미지\n",
        "    ax = plt.subplot(3, 5, i + 1)\n",
        "    plt.imshow(x_test[i].reshape(28, 28), cmap='gray')\n",
        "    plt.axis('off')\n",
        "\n",
        "    # 잡음 추가 이미지\n",
        "    ax = plt.subplot(3, 5, i + 1 + 5)\n",
        "    plt.imshow(x_test_noise[i].reshape(28, 28), cmap='gray')\n",
        "    plt.axis('off')\n",
        "\n",
        "    # 재구성 이미지\n",
        "    ax = plt.subplot(3, 5, i + 1 + 10)\n",
        "    plt.imshow(model(x_test)[i].numpy().reshape(28, 28), cmap='gray')\n",
        "    plt.axis('off')\n",
        "\n",
        "plt.show()"
      ],
      "metadata": {
        "colab": {
          "base_uri": "https://localhost:8080/",
          "height": 422
        },
        "outputId": "db5b7fcf-289c-4369-ddb5-9c05001d712a",
        "id": "hKH41GSp9_m9"
      },
      "execution_count": null,
      "outputs": [
        {
          "output_type": "display_data",
          "data": {
            "text/plain": [
              "<Figure size 1000x500 with 15 Axes>"
            ],
            "image/png": "[encoded data removed]"
          },
          "metadata": {}
        }
      ]
    }
  ]
}