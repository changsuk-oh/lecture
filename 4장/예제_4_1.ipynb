{
  "nbformat": 4,
  "nbformat_minor": 0,
  "metadata": {
    "colab": {
      "provenance": []
    },
    "kernelspec": {
      "name": "python3",
      "display_name": "Python 3"
    },
    "language_info": {
      "name": "python"
    }
  },
  "cells": [
    {
      "cell_type": "markdown",
      "source": [
        "예제 4.1 다층 신경망 분류기(XOR 연산)"
      ],
      "metadata": {
        "id": "Y3s3E-F4ZGFl"
      }
    },
    {
      "cell_type": "code",
      "source": [
        "# 예제 4.1 다층 퍼셉트론 분류기(XOR 연산)\n",
        "\n",
        "# 셋업\n",
        "import tensorflow as tf\n",
        "from tensorflow.keras.models import Sequential\n",
        "from tensorflow.keras.layers import Dense\n",
        "from tensorflow.keras.initializers import RandomNormal\n",
        "import numpy as np\n",
        "import matplotlib.pyplot as plt\n",
        "\n",
        "# 데이터 준비\n",
        "x_train = np.array([[0, 0], [0, 1], [1, 0], [1, 1]])   # 학습 데이터\n",
        "y_train = np.array([[0], [1], [1], [0]])               # 레이블(정답)\n",
        "\n",
        "# 모델 생성\n",
        "model = Sequential([\n",
        "    Dense(2, activation='sigmoid',                   # 은닉층 뉴런 2개\n",
        "          kernel_initializer=RandomNormal(seed=7),   # 가중치 초기화\n",
        "          input_shape=(2, ), name='Hidden_Layer'),\n",
        "    Dense(1,                                         # 출력층 뉴런 1개\n",
        "          kernel_initializer=RandomNormal(seed=7),\n",
        "          activation='sigmoid',                      # sigmoid 함수 사용\n",
        "          name='Output_Layer')\n",
        "])"
      ],
      "metadata": {
        "id": "AhyoASpJujsC"
      },
      "execution_count": null,
      "outputs": []
    },
    {
      "cell_type": "code",
      "source": [
        "# 모델 컴파일\n",
        "model.compile(optimizer='adam', loss='mean_squared_error')"
      ],
      "metadata": {
        "id": "o6QtUY-LLmPJ"
      },
      "execution_count": null,
      "outputs": []
    },
    {
      "cell_type": "code",
      "source": [
        "# 모델 학습\n",
        "history = model.fit(x_train, y_train, epochs=10000, verbose=0)"
      ],
      "metadata": {
        "id": "ePWPts-qJrOW"
      },
      "execution_count": null,
      "outputs": []
    },
    {
      "cell_type": "code",
      "source": [
        "# 학습 결과 시각화\n",
        "epochs = range(1, len(history.history['loss']) + 1)\n",
        "\n",
        "plt.plot(epochs, history.history['loss'], color='black')\n",
        "plt.xlabel('epochs')\n",
        "plt.ylabel('loss')\n",
        "\n",
        "plt.show()"
      ],
      "metadata": {
        "colab": {
          "base_uri": "https://localhost:8080/",
          "height": 449
        },
        "outputId": "57c43c4f-60f0-49d7-bc31-bfca5f5d9623",
        "id": "bHDptUgQGflA"
      },
      "execution_count": null,
      "outputs": [
        {
          "output_type": "display_data",
          "data": {
            "text/plain": [
              "<Figure size 640x480 with 1 Axes>"
            ],
            "image/png": "[encoded data removed]"
          },
          "metadata": {}
        }
      ]
    },
    {
      "cell_type": "code",
      "source": [
        "# 학습 후 은닉층 가중치와 바이어스 확인\n",
        "weights, biases = model.layers[0].get_weights()\n",
        "\n",
        "print(f\"weights: {weights.round(1)} \\n bias: {biases.round(1)}\")"
      ],
      "metadata": {
        "id": "0SeSltLCKLE1",
        "colab": {
          "base_uri": "https://localhost:8080/"
        },
        "outputId": "d02c541e-abcc-445b-aaed-a8525f8f7faa"
      },
      "execution_count": null,
      "outputs": [
        {
          "output_type": "stream",
          "name": "stdout",
          "text": [
            "weights: [[-6.7 -5.1]\n",
            " [-6.8 -5.1]] \n",
            " bias: [3.1 7.7]\n"
          ]
        }
      ]
    },
    {
      "cell_type": "code",
      "source": [
        "# 학습 후 출력층 가중치와 바이어스 확인\n",
        "weights, bias = model.layers[1].get_weights()\n",
        "\n",
        "print(f\"weights: {weights.round(1)} \\n bias: {bias.round(1)}\")"
      ],
      "metadata": {
        "colab": {
          "base_uri": "https://localhost:8080/"
        },
        "outputId": "93e06205-1367-47e4-8e93-84628fb676d3",
        "id": "XCT5dw3IKL95"
      },
      "execution_count": null,
      "outputs": [
        {
          "output_type": "stream",
          "name": "stdout",
          "text": [
            "weights: [[-7.6]\n",
            " [ 8. ]] \n",
            " bias: [-4.]\n"
          ]
        }
      ]
    },
    {
      "cell_type": "code",
      "source": [
        "# 모델 예측\n",
        "x_test = np.array([[0, 0],[0, 1], [1, 0], [1, 1]])   # 테스트 데이터\n",
        "y_test = np.array([[0], [1], [1], [0]])              # 테스트 정답\n",
        "\n",
        "model.predict(x_test).round(2)"
      ],
      "metadata": {
        "colab": {
          "base_uri": "https://localhost:8080/"
        },
        "outputId": "471292cc-6999-42ac-b9a6-ac2563c811f8",
        "id": "WoJNSnS6JdDt"
      },
      "execution_count": null,
      "outputs": [
        {
          "output_type": "stream",
          "name": "stdout",
          "text": [
            "1/1 [==============================] - 0s 17ms/step\n"
          ]
        },
        {
          "output_type": "execute_result",
          "data": {
            "text/plain": [
              "array([[0.04],\n",
              "       [0.96],\n",
              "       [0.96],\n",
              "       [0.03]], dtype=float32)"
            ]
          },
          "metadata": {},
          "execution_count": 24
        }
      ]
    }
  ]
}