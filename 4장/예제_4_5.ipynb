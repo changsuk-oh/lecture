{
  "nbformat": 4,
  "nbformat_minor": 0,
  "metadata": {
    "colab": {
      "provenance": []
    },
    "kernelspec": {
      "name": "python3",
      "display_name": "Python 3"
    },
    "language_info": {
      "name": "python"
    }
  },
  "cells": [
    {
      "cell_type": "markdown",
      "source": [
        "예제 4.5 BP 알고리즘"
      ],
      "metadata": {
        "id": "oRZvMcrFcdTe"
      }
    },
    {
      "cell_type": "code",
      "execution_count": null,
      "metadata": {
        "colab": {
          "base_uri": "https://localhost:8080/"
        },
        "outputId": "86ae7c6e-b312-4640-98aa-cdc96d923984",
        "id": "3trLq5RwGm-u"
      },
      "outputs": [
        {
          "name": "stdout",
          "output_type": "stream",
          "text": [
            "tf.Tensor(12.0, shape=(), dtype=float32)\n"
          ]
        }
      ],
      "source": [
        "# 예제 4.5 BP 알고리즘\n",
        "\n",
        "# 그레디언트(텐서플로)\n",
        "import tensorflow as tf\n",
        "\n",
        "x = tf.Variable(3.)\n",
        "\n",
        "with tf.GradientTape() as tape:   # 자동 미분 수행\n",
        "    y = x ** 2\n",
        "    z = 2 * y + 3\n",
        "\n",
        "grad_z_of_x = tape.gradient(z, x)   # x에 대한 z의 그레디언트 계산\n",
        "\n",
        "print(grad_z_of_x)"
      ]
    },
    {
      "cell_type": "code",
      "execution_count": null,
      "metadata": {
        "colab": {
          "base_uri": "https://localhost:8080/"
        },
        "outputId": "6d41f212-5a14-489c-cff3-ee4e9aef4bc1",
        "id": "HeCxBOIZGqNZ"
      },
      "outputs": [
        {
          "name": "stdout",
          "output_type": "stream",
          "text": [
            "tensor(12.)\n"
          ]
        }
      ],
      "source": [
        "# 예제 4.5 그레디언트(파이토치)\n",
        "import torch\n",
        "\n",
        "x = torch.tensor(3., requires_grad=True)   # 그레디언트 지정\n",
        "\n",
        "y = x ** 2\n",
        "z = 2 * y + 3\n",
        "\n",
        "z.backward()   # 역전파(그레디언트 계산)\n",
        "\n",
        "print(x.grad)   # x에 대한 z의 그레디언트"
      ]
    }
  ]
}