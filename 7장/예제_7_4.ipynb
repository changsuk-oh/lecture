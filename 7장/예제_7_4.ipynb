{
  "nbformat": 4,
  "nbformat_minor": 0,
  "metadata": {
    "colab": {
      "provenance": []
    },
    "kernelspec": {
      "name": "python3",
      "display_name": "Python 3"
    },
    "language_info": {
      "name": "python"
    }
  },
  "cells": [
    {
      "cell_type": "markdown",
      "source": [
        "예제 7.4 시퀀스 데이터셋 생성"
      ],
      "metadata": {
        "id": "BRGSArrr0Q6y"
      }
    },
    {
      "cell_type": "code",
      "execution_count": null,
      "metadata": {
        "execution": {
          "iopub.execute_input": "2022-05-20T13:27:02.195344Z",
          "iopub.status.busy": "2022-05-20T13:27:02.195011Z",
          "iopub.status.idle": "2022-05-20T13:27:02.314820Z",
          "shell.execute_reply": "2022-05-20T13:27:02.312523Z"
        },
        "outputId": "af64a8bc-3596-460c-ff9b-835ef506cf6f",
        "colab": {
          "base_uri": "https://localhost:8080/"
        },
        "id": "zSZAMu7mr87O"
      },
      "outputs": [
        {
          "output_type": "stream",
          "name": "stdout",
          "text": [
            "[0, 1, 2, 3, 4] 5\n",
            "[1, 2, 3, 4, 5] 6\n",
            "[2, 3, 4, 5, 6] 7\n",
            "[3, 4, 5, 6, 7] 8\n",
            "[4, 5, 6, 7, 8] 9\n"
          ]
        }
      ],
      "source": [
        "# 예제 7.4 시퀀스 데이터셋 생성(텐서플로)\n",
        "\n",
        "# 시퀀스 데이터셋 생성(텐서플로)\n",
        "import tensorflow as tf\n",
        "import numpy as np\n",
        "\n",
        "train_data = np.arange(10)             # 데이터 준비\n",
        "sequence_length = 5                    # 시퀀스 길이 5\n",
        "offset = 1                             # 오프셋 1\n",
        "shift = sequence_length + offset - 1   # 레이블 위치\n",
        "\n",
        "train_ds = tf.keras.utils.timeseries_dataset_from_array(\n",
        "    data=train_data,                   # 입력\n",
        "    targets=train_data[shift:],        # 레이블\n",
        "    sequence_length=sequence_length)   # 시퀀스 길이\n",
        "\n",
        "for inputs, targets in train_ds:\n",
        "    for i in range(inputs.shape[0]):\n",
        "        print([int(x) for x in inputs[i]], int(targets[i]))"
      ]
    },
    {
      "cell_type": "code",
      "source": [
        "# 예제 7.4 시퀀스 데이터셋 생성(파이토치)\n",
        "\n",
        "# 시퀀스 데이터셋 생성(파이토치)\n",
        "import torch\n",
        "from torch.utils.data import TensorDataset, DataLoader\n",
        "\n",
        "train_data = torch.arange(10)   # 데이터 준비\n",
        "sequence_length = 5             # 시퀀스 길이 5\n",
        "\n",
        "inputs = []\n",
        "targets = []\n",
        "\n",
        "for i in range(len(train_data) - sequence_length):\n",
        "    input_data = train_data[i : i + sequence_length]  # 입력\n",
        "    target_data = train_data[i + sequence_length]     # 레이블\n",
        "    inputs.append(input_data)     # 입력 리스트에 추가\n",
        "    targets.append(target_data)   # 레이블 리스트에 추가\n",
        "\n",
        "inputs = torch.stack(inputs)      # 리스트들로 구성된 입력을 텐서로 변환\n",
        "targets = torch.tensor(targets)   # 레이블 리스트를 텐서로 변환\n",
        "\n",
        "train_ds = TensorDataset(inputs, targets)  # 학습 데이터셋 생성\n",
        "\n",
        "train_loader = DataLoader(train_ds, batch_size=2)   # 데이터 로더 생성\n",
        "\n",
        "for inputs, targets in train_loader:\n",
        "    for i in range(inputs.shape[0]):\n",
        "        print([int(x) for x in inputs[i]], int(targets[i]))"
      ],
      "metadata": {
        "colab": {
          "base_uri": "https://localhost:8080/"
        },
        "outputId": "db65a1f1-45b6-4a8b-c0fd-e1b3b742c1a6",
        "id": "OgsMft98ZDKS"
      },
      "execution_count": null,
      "outputs": [
        {
          "output_type": "stream",
          "name": "stdout",
          "text": [
            "[0, 1, 2, 3, 4] 5\n",
            "[1, 2, 3, 4, 5] 6\n",
            "[2, 3, 4, 5, 6] 7\n",
            "[3, 4, 5, 6, 7] 8\n",
            "[4, 5, 6, 7, 8] 9\n"
          ]
        }
      ]
    }
  ]
}