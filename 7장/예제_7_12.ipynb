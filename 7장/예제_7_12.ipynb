{
  "nbformat": 4,
  "nbformat_minor": 0,
  "metadata": {
    "colab": {
      "provenance": []
    },
    "kernelspec": {
      "name": "python3",
      "display_name": "Python 3"
    },
    "language_info": {
      "name": "python"
    }
  },
  "cells": [
    {
      "cell_type": "markdown",
      "source": [
        "예제 7.12 허깅페이스 트랜스포머"
      ],
      "metadata": {
        "id": "OY9dh39Z3gW2"
      }
    },
    {
      "cell_type": "code",
      "execution_count": null,
      "metadata": {
        "id": "M6_rMUaRVlzs"
      },
      "outputs": [],
      "source": [
        "# 예제 7.12(a) 트랜스포머를 이용한 감성 분석\n",
        "\n",
        "# 허깅페이스 트랜스포머 설치\n",
        "!pip install transformers"
      ]
    },
    {
      "cell_type": "code",
      "execution_count": null,
      "metadata": {
        "colab": {
          "base_uri": "https://localhost:8080/",
          "height": 201,
          "referenced_widgets": [
            "48be75591e6944469a39679c157ee950",
            "0f51cf9016074b348cf306f3e2fa88d4",
            "cb856e13b9b24cbc949c3d460be879b8",
            "d247276b9a394757809d7dc0def3c5b7",
            "416ae9f9b6b6427ba73a2fc4772392e0",
            "5bcf80b256fa45b5b86df74c8b7a8c5c",
            "2281eff35d254784b7a1d4bedc7ddc79",
            "a78175cfdf50480da4a71ac22b45edc5",
            "6397681eff1c4f259864acb1eac95375",
            "c62e3ec0285a4c53850ad0f3273e3f29",
            "47896db1396641bb878d5a5e83480af3",
            "c193bcace00442e9be7a1990ef8d335f",
            "29e50bd2c5004773beaa48a4bfd5dc0b",
            "66aef3afdb2243a5a54c36d97c61b708",
            "34843cf5e7e8414fb32d5fc14ed5e531",
            "c27a157baac64b7eab84691b51409aa4",
            "3e945490865940649f0ea9af003d2078",
            "50ddef1ec2434833910f1f1df7e4d8f7",
            "5d99efd34859496f962a26ebdad99ec5",
            "cd28689a3b324d728af6041b30fd3d4c",
            "8ced908c1df24b77bd606be06e8b6101",
            "eaa27c13b4724377b787c0c1b51c780b",
            "6ddb10383ae3464bba8002c33747dabd",
            "d8a98bc5a5d0410c9a0db1796f6a1dce",
            "8a27d0d8baa64d86b9ebe1058299d3b8",
            "12f5847f9ffd4c4fb61379e5eafbf076",
            "b0e29d7df1514ca0b779e9b20f7c23fc",
            "fc70f346a037412a81a888e5369c73f9",
            "99a84a020ee243b3a065d5f67a2d23d2",
            "a5b920c31a2145c8abc9bf14becf0ac0",
            "d211d87669a94b96a209bf72cd87468b",
            "a517adc82d7e4515aa53e7ed6cdcfc3b",
            "c9e68c6ffb1944149798dfba517dcf1d",
            "50ec4084020b4c628d91db55c48a5920",
            "e270988fa80445578cee04bf7af2e2c0",
            "bb5e50b4a9be496bb8a63c7360e1aba6",
            "301d6d077910455a9208bae2d168a106",
            "0e1cc8e38bd74ee28e57ad463a5e2327",
            "242988e1802d49f88e22ce2bd703163c",
            "0040f45b6f274dae9e299cf1a4cef605",
            "41af8c84a0e14546882c891984c65a6f",
            "59783b6d6ed24735b5c463a5ad0ba1a8",
            "486580ebf76f459eac853756a31bd891",
            "c7292aee2a12428facc09d4cf0e87076"
          ]
        },
        "outputId": "0f1eb2bc-7e80-4a76-e76b-47bc5114c290",
        "id": "cgLM_jca762d"
      },
      "outputs": [
        {
          "output_type": "stream",
          "name": "stderr",
          "text": [
            "No model was supplied, defaulted to distilbert-base-uncased-finetuned-sst-2-english and revision af0f99b (https://huggingface.co/distilbert-base-uncased-finetuned-sst-2-english).\n",
            "Using a pipeline without specifying a model name and revision in production is not recommended.\n"
          ]
        },
        {
          "output_type": "display_data",
          "data": {
            "text/plain": [
              "Downloading (…)lve/main/config.json:   0%|          | 0.00/629 [00:00<?, ?B/s]"
            ],
            "application/vnd.jupyter.widget-view+json": {
              "version_major": 2,
              "version_minor": 0,
              "model_id": "48be75591e6944469a39679c157ee950"
            }
          },
          "metadata": {}
        },
        {
          "output_type": "display_data",
          "data": {
            "text/plain": [
              "Downloading model.safetensors:   0%|          | 0.00/268M [00:00<?, ?B/s]"
            ],
            "application/vnd.jupyter.widget-view+json": {
              "version_major": 2,
              "version_minor": 0,
              "model_id": "c193bcace00442e9be7a1990ef8d335f"
            }
          },
          "metadata": {}
        },
        {
          "output_type": "display_data",
          "data": {
            "text/plain": [
              "Downloading (…)okenizer_config.json:   0%|          | 0.00/48.0 [00:00<?, ?B/s]"
            ],
            "application/vnd.jupyter.widget-view+json": {
              "version_major": 2,
              "version_minor": 0,
              "model_id": "6ddb10383ae3464bba8002c33747dabd"
            }
          },
          "metadata": {}
        },
        {
          "output_type": "display_data",
          "data": {
            "text/plain": [
              "Downloading (…)solve/main/vocab.txt:   0%|          | 0.00/232k [00:00<?, ?B/s]"
            ],
            "application/vnd.jupyter.widget-view+json": {
              "version_major": 2,
              "version_minor": 0,
              "model_id": "50ec4084020b4c628d91db55c48a5920"
            }
          },
          "metadata": {}
        }
      ],
      "source": [
        "# 감성 분석 파이프라인\n",
        "from transformers import pipeline\n",
        "\n",
        "classifier = pipeline('sentiment-analysis')"
      ]
    },
    {
      "cell_type": "code",
      "source": [
        "# 모델 구조 확인\n",
        "classifier.model"
      ],
      "metadata": {
        "colab": {
          "base_uri": "https://localhost:8080/"
        },
        "id": "O9m_0PDnXDcN",
        "outputId": "422acd68-a196-41cf-b407-afdc7275dbe0"
      },
      "execution_count": null,
      "outputs": [
        {
          "output_type": "execute_result",
          "data": {
            "text/plain": [
              "DistilBertForSequenceClassification(\n",
              "  (distilbert): DistilBertModel(\n",
              "    (embeddings): Embeddings(\n",
              "      (word_embeddings): Embedding(30522, 768, padding_idx=0)\n",
              "      (position_embeddings): Embedding(512, 768)\n",
              "      (LayerNorm): LayerNorm((768,), eps=1e-12, elementwise_affine=True)\n",
              "      (dropout): Dropout(p=0.1, inplace=False)\n",
              "    )\n",
              "    (transformer): Transformer(\n",
              "      (layer): ModuleList(\n",
              "        (0-5): 6 x TransformerBlock(\n",
              "          (attention): MultiHeadSelfAttention(\n",
              "            (dropout): Dropout(p=0.1, inplace=False)\n",
              "            (q_lin): Linear(in_features=768, out_features=768, bias=True)\n",
              "            (k_lin): Linear(in_features=768, out_features=768, bias=True)\n",
              "            (v_lin): Linear(in_features=768, out_features=768, bias=True)\n",
              "            (out_lin): Linear(in_features=768, out_features=768, bias=True)\n",
              "          )\n",
              "          (sa_layer_norm): LayerNorm((768,), eps=1e-12, elementwise_affine=True)\n",
              "          (ffn): FFN(\n",
              "            (dropout): Dropout(p=0.1, inplace=False)\n",
              "            (lin1): Linear(in_features=768, out_features=3072, bias=True)\n",
              "            (lin2): Linear(in_features=3072, out_features=768, bias=True)\n",
              "            (activation): GELUActivation()\n",
              "          )\n",
              "          (output_layer_norm): LayerNorm((768,), eps=1e-12, elementwise_affine=True)\n",
              "        )\n",
              "      )\n",
              "    )\n",
              "  )\n",
              "  (pre_classifier): Linear(in_features=768, out_features=768, bias=True)\n",
              "  (classifier): Linear(in_features=768, out_features=2, bias=True)\n",
              "  (dropout): Dropout(p=0.2, inplace=False)\n",
              ")"
            ]
          },
          "metadata": {},
          "execution_count": 4
        }
      ]
    },
    {
      "cell_type": "code",
      "execution_count": null,
      "metadata": {
        "colab": {
          "base_uri": "https://localhost:8080/"
        },
        "outputId": "061baca0-9df0-4a67-afe0-6c3cbde66e0a",
        "id": "JW69uGIemsdj"
      },
      "outputs": [
        {
          "output_type": "stream",
          "name": "stdout",
          "text": [
            "[{'label': 'POSITIVE', 'score': 0.9978258013725281}]\n",
            "[{'label': 'NEGATIVE', 'score': 0.9996480941772461}]\n"
          ]
        }
      ],
      "source": [
        "# 감성 분석(IMDB 오펜하이머 리뷰)\n",
        "text1 = \"This movie is very interesting and very thrilling. \\\n",
        "Since this movie had no action and was mostly just a documentary \\\n",
        "and was 3 hours long, I though that it was going to be boring. \\\n",
        "But, the 3 hours went by very fast and had me \\\n",
        "at the edge of my seat the whole time.\"\n",
        "\n",
        "text2 = \"Christopher Nolan's Oppenheimer is a bloated, overwrought, \\\n",
        "and ultimately unsatisfying film. The film is three hours long, \\\n",
        "but it feels even longer, thanks to Nolan's penchant \\\n",
        "for unnecessary scenes and characters. The supporting characters are \\\n",
        "all flat and one-dimensional, and they don't have enough time to develop.\"\n",
        "\n",
        "print(classifier(text1))\n",
        "print(classifier(text2))"
      ]
    },
    {
      "cell_type": "code",
      "source": [
        "# 예제 7.12(b) 트랜스포머를 이용한 문장 생성\n",
        "\n",
        "# 문장 생성 파이프라인\n",
        "from transformers import pipeline\n",
        "\n",
        "generator = pipeline('text-generation',\n",
        "                     model='skt/kogpt2-base-v2',\n",
        "                     tokenizer='skt/kogpt2-base-v2')\n",
        "\n",
        "# 모델 구조 확인\n",
        "generator.model"
      ],
      "metadata": {
        "colab": {
          "base_uri": "https://localhost:8080/",
          "height": 669,
          "referenced_widgets": [
            "b126f21620e9415e80003ae30cda82f0",
            "ca0523a38035457ebfa38715dd4ae412",
            "7853aa570c53484d878d3b3fb54998d6",
            "df4c96f6623d4fcabdd18d4c0e80591e",
            "2bc0e7a5df31486e8571d4d9990dac00",
            "02d405c5efc746f6ab2f7dd349cee0b7",
            "f9e14f6fa64647108e1a1b296dd0b55d",
            "293629c1f1f14102b87b40658a137625",
            "9d4d712d33974c5baab170e22bbb8bd1",
            "989b6f99e29e420c8acf1ecac2fb0503",
            "ad299f3f6bf44bfe89bd1079b2112fd1",
            "c87d9e1c3eef4876b18cf09641b90219",
            "7168152ab14a4c4bb4177bc7d7176e3c",
            "3936dc7ce7f74015b1ed3685dcbca8a5",
            "7a20b044af834fdeb8e34b36d9af3b66",
            "d928c38bad044777a4c61ea4be2acc3b",
            "6a93a40ed0514919a9a966e9564b1983",
            "df200bcc1b73458fa501f456ace65f02",
            "f97eed54cc8f4294b638e93e34d4b2b3",
            "5e5627c1419e444f89cb76cf093297fe",
            "b83881f2335f4523b5c6392960f7e8dc",
            "6cc269748be2417abccc59fb5087e3a2",
            "72a0e48b0ce44844a26e10c815eb6e66",
            "4020bc87b0d843db85c8bf08915799c2",
            "9966131416a9498e907c474a91159c98",
            "36faf10f42c4479dbe0552e2ce8f3eb6",
            "e0e48b3883dc40858fd306557c034e47",
            "232ad6f4f9e340cc877489a17d2d53be",
            "ed6117d3fd10427fa4fa7b41a0f8bf85",
            "23e4995a722c4672a46f5a75572051f4",
            "e3c57f4713494d039a773cf48d8a40cf",
            "f5bea8f5dbd2427b997cb04669952465",
            "22e3394448e24dbd807439cb52894f34"
          ]
        },
        "id": "N0gOw2UqtHmm",
        "outputId": "10b891f9-6224-4428-e1d0-4b289c1080c0"
      },
      "execution_count": null,
      "outputs": [
        {
          "output_type": "display_data",
          "data": {
            "text/plain": [
              "Downloading (…)lve/main/config.json:   0%|          | 0.00/1.00k [00:00<?, ?B/s]"
            ],
            "application/vnd.jupyter.widget-view+json": {
              "version_major": 2,
              "version_minor": 0,
              "model_id": "b126f21620e9415e80003ae30cda82f0"
            }
          },
          "metadata": {}
        },
        {
          "output_type": "display_data",
          "data": {
            "text/plain": [
              "Downloading pytorch_model.bin:   0%|          | 0.00/513M [00:00<?, ?B/s]"
            ],
            "application/vnd.jupyter.widget-view+json": {
              "version_major": 2,
              "version_minor": 0,
              "model_id": "c87d9e1c3eef4876b18cf09641b90219"
            }
          },
          "metadata": {}
        },
        {
          "output_type": "display_data",
          "data": {
            "text/plain": [
              "Downloading (…)/main/tokenizer.json:   0%|          | 0.00/2.83M [00:00<?, ?B/s]"
            ],
            "application/vnd.jupyter.widget-view+json": {
              "version_major": 2,
              "version_minor": 0,
              "model_id": "72a0e48b0ce44844a26e10c815eb6e66"
            }
          },
          "metadata": {}
        },
        {
          "output_type": "stream",
          "name": "stderr",
          "text": [
            "Special tokens have been added in the vocabulary, make sure the associated word embeddings are fine-tuned or trained.\n"
          ]
        },
        {
          "output_type": "execute_result",
          "data": {
            "text/plain": [
              "GPT2LMHeadModel(\n",
              "  (transformer): GPT2Model(\n",
              "    (wte): Embedding(51200, 768)\n",
              "    (wpe): Embedding(1024, 768)\n",
              "    (drop): Dropout(p=0.1, inplace=False)\n",
              "    (h): ModuleList(\n",
              "      (0-11): 12 x GPT2Block(\n",
              "        (ln_1): LayerNorm((768,), eps=1e-05, elementwise_affine=True)\n",
              "        (attn): GPT2Attention(\n",
              "          (c_attn): Conv1D()\n",
              "          (c_proj): Conv1D()\n",
              "          (attn_dropout): Dropout(p=0.1, inplace=False)\n",
              "          (resid_dropout): Dropout(p=0.1, inplace=False)\n",
              "        )\n",
              "        (ln_2): LayerNorm((768,), eps=1e-05, elementwise_affine=True)\n",
              "        (mlp): GPT2MLP(\n",
              "          (c_fc): Conv1D()\n",
              "          (c_proj): Conv1D()\n",
              "          (act): NewGELUActivation()\n",
              "          (dropout): Dropout(p=0.1, inplace=False)\n",
              "        )\n",
              "      )\n",
              "    )\n",
              "    (ln_f): LayerNorm((768,), eps=1e-05, elementwise_affine=True)\n",
              "  )\n",
              "  (lm_head): Linear(in_features=768, out_features=51200, bias=False)\n",
              ")"
            ]
          },
          "metadata": {},
          "execution_count": 10
        }
      ]
    },
    {
      "cell_type": "code",
      "source": [
        "# 문장 생성\n",
        "prompt = \"오늘 날씨가 정말\"   # 시작 문장\n",
        "\n",
        "generated_text = generator(prompt,\n",
        "                           max_length=30,            # 생성할 단어 수\n",
        "                           num_return_sequences=2,   # 생성할 문장의 수\n",
        "                           temperature=0.7)          # 소프트맥스 온도\n",
        "\n",
        "print(generated_text)"
      ],
      "metadata": {
        "colab": {
          "base_uri": "https://localhost:8080/"
        },
        "outputId": "30ad4e2e-a9c8-4ae9-eb88-6def4246446c",
        "id": "4NI0TfJyr2SC"
      },
      "execution_count": null,
      "outputs": [
        {
          "output_type": "stream",
          "name": "stdout",
          "text": [
            "[{'generated_text': '오늘 날씨가 정말 좋아서 나들이 가기 정말 좋은 날씨였습니다.\\n오늘 낮기온 서울 26도 등 어제보다 3도에서 6도 가량 높은 기온을'}, {'generated_text': '오늘 날씨가 정말 변덕스럽습니다.\\n주말에도 이맘때쯤에는 비가 내리다가 오후부터 다시 시작되겠는데요.\\n이번 비가 그치고'}]\n"
          ]
        }
      ]
    }
  ]
}