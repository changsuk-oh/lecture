{
  "nbformat": 4,
  "nbformat_minor": 0,
  "metadata": {
    "colab": {
      "provenance": []
    },
    "kernelspec": {
      "name": "python3",
      "display_name": "Python 3"
    },
    "language_info": {
      "name": "python"
    }
  },
  "cells": [
    {
      "cell_type": "markdown",
      "source": [
        "예제 7.3 LSTM / GRU 파라미터 수"
      ],
      "metadata": {
        "id": "BRGSArrr0Q6y"
      }
    },
    {
      "cell_type": "code",
      "source": [
        "# 예제 7.3(a) LSTM 파라미터 수\n",
        "\n",
        "import tensorflow as tf\n",
        "from tensorflow.keras import Sequential\n",
        "from tensorflow.keras.layers import LSTM, Dense\n",
        "\n",
        "sequence_length = 240\n",
        "feature = 5\n",
        "\n",
        "model = Sequential(name='LSTM')\n",
        "model.add(LSTM(units=8, input_shape=(sequence_length, feature)))\n",
        "model.add(Dense(1))\n",
        "\n",
        "model.summary()"
      ],
      "metadata": {
        "colab": {
          "base_uri": "https://localhost:8080/"
        },
        "outputId": "f5bad341-b724-4dde-b7a3-094a237a5793",
        "id": "xX9Wx6nEDipz"
      },
      "execution_count": null,
      "outputs": [
        {
          "output_type": "stream",
          "name": "stdout",
          "text": [
            "Model: \"LSTM\"\n",
            "_________________________________________________________________\n",
            " Layer (type)                Output Shape              Param #   \n",
            "=================================================================\n",
            " lstm (LSTM)                 (None, 8)                 448       \n",
            "                                                                 \n",
            " dense (Dense)               (None, 1)                 9         \n",
            "                                                                 \n",
            "=================================================================\n",
            "Total params: 457\n",
            "Trainable params: 457\n",
            "Non-trainable params: 0\n",
            "_________________________________________________________________\n"
          ]
        }
      ]
    },
    {
      "cell_type": "code",
      "source": [
        "# 예제 7.3(b) GRU 파라미터 수\n",
        "\n",
        "sequence_length = 240\n",
        "feature = 5\n",
        "\n",
        "model = Sequential(name='GRU')\n",
        "model.add(GRU(units=8, input_shape=(sequence_length, feature)))\n",
        "model.add(Dense(1))\n",
        "\n",
        "model.summary()"
      ],
      "metadata": {
        "colab": {
          "base_uri": "https://localhost:8080/"
        },
        "outputId": "1468994a-f2b6-41f4-97c8-c4790f60b342",
        "id": "vpRT2dvrLH4w"
      },
      "execution_count": null,
      "outputs": [
        {
          "output_type": "stream",
          "name": "stdout",
          "text": [
            "Model: \"GRU\"\n",
            "_________________________________________________________________\n",
            " Layer (type)                Output Shape              Param #   \n",
            "=================================================================\n",
            " gru (GRU)                   (None, 8)                 360       \n",
            "                                                                 \n",
            " dense (Dense)               (None, 1)                 9         \n",
            "                                                                 \n",
            "=================================================================\n",
            "Total params: 369\n",
            "Trainable params: 369\n",
            "Non-trainable params: 0\n",
            "_________________________________________________________________\n"
          ]
        }
      ]
    }
  ]
}