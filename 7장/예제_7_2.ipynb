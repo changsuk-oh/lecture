{
  "nbformat": 4,
  "nbformat_minor": 0,
  "metadata": {
    "colab": {
      "provenance": []
    },
    "kernelspec": {
      "name": "python3",
      "display_name": "Python 3"
    },
    "language_info": {
      "name": "python"
    }
  },
  "cells": [
    {
      "cell_type": "markdown",
      "source": [
        "예제 7.2 RNN 파라미터 수"
      ],
      "metadata": {
        "id": "BRGSArrr0Q6y"
      }
    },
    {
      "cell_type": "code",
      "source": [
        "# 예제 7.2(a) RNN 파라미터 수\n",
        "\n",
        "import tensorflow as tf\n",
        "from tensorflow.keras import Sequential\n",
        "from tensorflow.keras.layers import SimpleRNN, Dense\n",
        "\n",
        "sequence_length = 240\n",
        "feature = 5\n",
        "\n",
        "model = Sequential(name='RNN')\n",
        "model.add(SimpleRNN(units=8, input_shape=(sequence_length, feature)))\n",
        "model.add(Dense(1))\n",
        "\n",
        "model.summary()"
      ],
      "metadata": {
        "colab": {
          "base_uri": "https://localhost:8080/"
        },
        "outputId": "b5c6b447-0d44-4097-e7cd-136837140fc8",
        "id": "VEYAX3Er8IqI"
      },
      "execution_count": null,
      "outputs": [
        {
          "output_type": "stream",
          "name": "stdout",
          "text": [
            "Model: \"RNN\"\n",
            "_________________________________________________________________\n",
            " Layer (type)                Output Shape              Param #   \n",
            "=================================================================\n",
            " simple_rnn (SimpleRNN)      (None, 8)                 112       \n",
            "                                                                 \n",
            " dense (Dense)               (None, 1)                 9         \n",
            "                                                                 \n",
            "=================================================================\n",
            "Total params: 121\n",
            "Trainable params: 121\n",
            "Non-trainable params: 0\n",
            "_________________________________________________________________\n"
          ]
        }
      ]
    },
    {
      "cell_type": "code",
      "source": [
        "# 예제 7.2(b) StackRNN 파라미터 수\n",
        "\n",
        "sequence_length = 240\n",
        "features = 5\n",
        "\n",
        "model = Sequential(name='StackRNN')\n",
        "model.add(SimpleRNN(8, return_sequences=True,\n",
        "                    input_shape=(sequence_length, features)))\n",
        "model.add(SimpleRNN(8))\n",
        "model.add(Dense(1))\n",
        "\n",
        "model.summary()"
      ],
      "metadata": {
        "colab": {
          "base_uri": "https://localhost:8080/"
        },
        "id": "hfwevvW56UKm",
        "outputId": "69656646-24cf-4599-cd38-8f76cb3c2988"
      },
      "execution_count": null,
      "outputs": [
        {
          "output_type": "stream",
          "name": "stdout",
          "text": [
            "Model: \"StackRNN\"\n",
            "_________________________________________________________________\n",
            " Layer (type)                Output Shape              Param #   \n",
            "=================================================================\n",
            " simple_rnn (SimpleRNN)      (None, 240, 8)            112       \n",
            "                                                                 \n",
            " simple_rnn_1 (SimpleRNN)    (None, 8)                 136       \n",
            "                                                                 \n",
            " dense (Dense)               (None, 1)                 9         \n",
            "                                                                 \n",
            "=================================================================\n",
            "Total params: 257\n",
            "Trainable params: 257\n",
            "Non-trainable params: 0\n",
            "_________________________________________________________________\n"
          ]
        }
      ]
    },
    {
      "cell_type": "code",
      "source": [
        "# 예제 7.2(c) BidirectionalRNN 파라미터 수\n",
        "\n",
        "sequence_length = 240\n",
        "feature = 5\n",
        "\n",
        "model = Sequential(name='BidirectionalRNN')\n",
        "model.add(Bidirectional(SimpleRNN(8, input_shape=(sequence_length, feature))))\n",
        "model.add(Dense(1))\n",
        "\n",
        "model.build(input_shape=(None, time_step, feature))\n",
        "model.summary()"
      ],
      "metadata": {
        "colab": {
          "base_uri": "https://localhost:8080/"
        },
        "outputId": "4501af07-8695-4757-c81b-0241b2067d65",
        "id": "Ho3waoB1z9Ax"
      },
      "execution_count": null,
      "outputs": [
        {
          "output_type": "stream",
          "name": "stdout",
          "text": [
            "Model: \"BidirectionalRNN\"\n",
            "_________________________________________________________________\n",
            " Layer (type)                Output Shape              Param #   \n",
            "=================================================================\n",
            " bidirectional (Bidirectiona  (None, 16)               224       \n",
            " l)                                                              \n",
            "                                                                 \n",
            " dense (Dense)               (None, 1)                 17        \n",
            "                                                                 \n",
            "=================================================================\n",
            "Total params: 241\n",
            "Trainable params: 241\n",
            "Non-trainable params: 0\n",
            "_________________________________________________________________\n"
          ]
        }
      ]
    }
  ]
}