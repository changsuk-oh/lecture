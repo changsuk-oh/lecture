{
  "nbformat": 4,
  "nbformat_minor": 0,
  "metadata": {
    "colab": {
      "provenance": []
    },
    "kernelspec": {
      "name": "python3",
      "display_name": "Python 3"
    },
    "language_info": {
      "name": "python"
    }
  },
  "cells": [
    {
      "cell_type": "markdown",
      "source": [
        "예제 7.6 단어 임베딩"
      ],
      "metadata": {
        "id": "arnUH0gY2MGA"
      }
    },
    {
      "cell_type": "code",
      "source": [
        "# 예제 7.6 단어 임베딩(Word2Vec)\n",
        "\n",
        "!pip install gensim\n",
        "\n",
        "from gensim.models import Word2Vec\n",
        "\n",
        "sentences = [['I', 'like', 'reading', 'very', 'much'],\n",
        "             ['I', 'also', 'like', 'movies']]\n",
        "\n",
        "model = Word2Vec(sentences,\n",
        "                 min_count=1,     # 최소 등장 횟수\n",
        "                 vector_size=2,   # 임베딩 차원\n",
        "                 window=2,        # 윈도우 크기\n",
        "                 sg=0)            # CBOW(0)/skip-gram(1)\n",
        "\n",
        "embedding_vector = model.wv['reading']            # 임베딩 벡터 가져옴\n",
        "similarity = model.wv.similarity('reading', 'like')   # 단어 간 유사도\n",
        "\n",
        "print(embedding_vector.round(2))   # 단어 임베딩 벡터 확인\n",
        "print(similarity.round(2))         # 단어 간 유사도 확인"
      ],
      "metadata": {
        "colab": {
          "base_uri": "https://localhost:8080/"
        },
        "id": "QlhjnQ6sPKjh",
        "outputId": "48b6ab5c-52a2-449c-9bff-9e1a1ef24c0d"
      },
      "execution_count": null,
      "outputs": [
        {
          "output_type": "stream",
          "name": "stdout",
          "text": [
            "[-0.23  0.33]\n",
            "0.85\n"
          ]
        }
      ]
    }
  ]
}