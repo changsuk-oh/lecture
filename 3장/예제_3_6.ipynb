{
  "nbformat": 4,
  "nbformat_minor": 0,
  "metadata": {
    "colab": {
      "provenance": []
    },
    "kernelspec": {
      "name": "python3",
      "display_name": "Python 3"
    },
    "language_info": {
      "name": "python"
    }
  },
  "cells": [
    {
      "cell_type": "markdown",
      "source": [
        "예제 3.6 선형 회귀(텐서플로)"
      ],
      "metadata": {
        "id": "GJ4zJ8q_Wmma"
      }
    },
    {
      "cell_type": "code",
      "source": [
        "# 예제 3.6 선형 회귀 단층 신경망(텐서플로)\n",
        "\n",
        "# 셋업\n",
        "import tensorflow as tf\n",
        "from tensorflow.keras.models import Sequential\n",
        "from tensorflow.keras.layers import Dense\n",
        "from tensorflow.keras.initializers import RandomNormal\n",
        "from tensorflow.keras.optimizers import Adam\n",
        "from sklearn.model_selection import train_test_split\n",
        "import numpy as np\n",
        "import matplotlib.pyplot as plt"
      ],
      "metadata": {
        "id": "uk6ZJuxan-Ar"
      },
      "execution_count": null,
      "outputs": []
    },
    {
      "cell_type": "code",
      "source": [
        "# 데이터셋 준비\n",
        "np.random.seed(777)\n",
        "x_train = np.random.uniform(0, 10, 200)   # 0 ~ 10의 균등 분포 랜덤값 200개\n",
        "y_train = 2 * x_train + 1 + np.random.randn(200)   # 정규 분포 랜덤값 200개\n",
        "\n",
        "print(x_train.shape, y_train.shape, \"\\n\")   # x_train와 y_train shape 확인\n",
        "print(f\"x_train: {x_train[:3].round(1)}\")   # 처음 3개 샘플 확인\n",
        "print(f\"y_train: {y_train[:3].round(1)}\")"
      ],
      "metadata": {
        "id": "q4rCUjNbf75B",
        "colab": {
          "base_uri": "https://localhost:8080/"
        },
        "outputId": "008d8028-6e13-4f70-e30f-7f8e9a7fdef2"
      },
      "execution_count": null,
      "outputs": [
        {
          "output_type": "stream",
          "name": "stdout",
          "text": [
            "(200,) (200,) \n",
            "\n",
            "x_train: [1.5 3.  0.6]\n",
            "y_train: [4.2 8.6 2.1]\n"
          ]
        }
      ]
    },
    {
      "cell_type": "code",
      "source": [
        "# 데이터 시각화\n",
        "x = np.arange(0, 10, 0.1)\n",
        "y = 2 * x + 1\n",
        "\n",
        "plt.scatter(x_train[:50], y_train[:50])   # 처음 50개 샘플 표현\n",
        "plt.plot(x, y, color='black')\n",
        "plt.xlabel('x')\n",
        "plt.ylabel('y')\n",
        "\n",
        "plt.show()"
      ],
      "metadata": {
        "colab": {
          "base_uri": "https://localhost:8080/",
          "height": 279
        },
        "outputId": "4b63a004-bb53-4f62-987c-69023398bb92",
        "id": "fZOFqLAv26KH"
      },
      "execution_count": null,
      "outputs": [
        {
          "output_type": "display_data",
          "data": {
            "text/plain": [
              "<Figure size 432x288 with 1 Axes>"
            ],
            "image/png": "[encoded data removed]"
          },
          "metadata": {
            "needs_background": "light"
          }
        }
      ]
    },
    {
      "cell_type": "code",
      "source": [
        "# 학습 데이터/테스트 데이터 분할\n",
        "x_train, x_test, y_train, y_test = train_test_split(\n",
        "    x_train, y_train,\n",
        "    test_size=0.2, # 분할 비율 0.2\n",
        "    random_state=77)\n",
        "\n",
        "print(x_train.shape, y_train.shape)\n",
        "print(x_test.shape, y_test.shape)"
      ],
      "metadata": {
        "colab": {
          "base_uri": "https://localhost:8080/"
        },
        "outputId": "d8c77052-62a2-44c3-f93b-8ca46eec87b6",
        "id": "yQ2l_BYEotu2"
      },
      "execution_count": null,
      "outputs": [
        {
          "output_type": "stream",
          "name": "stdout",
          "text": [
            "(160,) (160,)\n",
            "(40,) (40,)\n"
          ]
        }
      ]
    },
    {
      "cell_type": "code",
      "source": [
        "# 모델 생성\n",
        "model = Sequential(name='linear_regression_model')   # 모델 이름 지정\n",
        "model.add(Dense(1,   # 출력층 선형 뉴런 1개(활성화 함수 사용하지 않음)\n",
        "                kernel_initializer=RandomNormal(seed=77),\n",
        "                input_shape=(1, ), name='Output_Layer'))   # 입력 1개"
      ],
      "metadata": {
        "id": "dFesOZHuxMOM"
      },
      "execution_count": null,
      "outputs": []
    },
    {
      "cell_type": "code",
      "source": [
        "# 모델 구조 요약\n",
        "model.summary()"
      ],
      "metadata": {
        "colab": {
          "base_uri": "https://localhost:8080/"
        },
        "id": "EqiHi8nxHQZC",
        "outputId": "51e92c46-6359-4443-ad4a-d31c9398c8fc"
      },
      "execution_count": null,
      "outputs": [
        {
          "output_type": "stream",
          "name": "stdout",
          "text": [
            "Model: \"linear_regression_model\"\n",
            "_________________________________________________________________\n",
            " Layer (type)                Output Shape              Param #   \n",
            "=================================================================\n",
            " Output_Layer (Dense)        (None, 1)                 2         \n",
            "                                                                 \n",
            "=================================================================\n",
            "Total params: 2\n",
            "Trainable params: 2\n",
            "Non-trainable params: 0\n",
            "_________________________________________________________________\n"
          ]
        }
      ]
    },
    {
      "cell_type": "code",
      "source": [
        "#  모델 컴파일\n",
        "model.compile(optimizer=Adam(learning_rate=0.1),\n",
        "              loss='mse',        # 손실 함수 MSE 사용\n",
        "              metrics=['mae'])   # 성능 평가 지표 MAE 사용"
      ],
      "metadata": {
        "id": "g3XTY1k8ozvG"
      },
      "execution_count": null,
      "outputs": []
    },
    {
      "cell_type": "code",
      "source": [
        "# 모델 학습\n",
        "model.fit(x_train, y_train, epochs=50, verbose=1)"
      ],
      "metadata": {
        "colab": {
          "base_uri": "https://localhost:8080/"
        },
        "outputId": "c3ad18c6-f187-4c0d-cf9d-5fedd9b03c2b",
        "id": "6kZowUVno8b8"
      },
      "execution_count": null,
      "outputs": [
        {
          "output_type": "stream",
          "name": "stdout",
          "text": [
            "Epoch 1/50\n",
            "5/5 [==============================] - 1s 9ms/step - loss: 122.1086 - mae: 9.6636\n",
            "Epoch 2/50\n",
            "5/5 [==============================] - 0s 16ms/step - loss: 61.7291 - mae: 6.7847\n",
            "Epoch 3/50\n",
            "5/5 [==============================] - 0s 15ms/step - loss: 23.5564 - mae: 4.1073\n",
            "Epoch 4/50\n",
            "5/5 [==============================] - 0s 11ms/step - loss: 6.0074 - mae: 2.0071\n",
            "Epoch 5/50\n",
            "5/5 [==============================] - 0s 9ms/step - loss: 1.2229 - mae: 0.8840\n",
            "Epoch 6/50\n",
            "5/5 [==============================] - 0s 6ms/step - loss: 2.5496 - mae: 1.3579\n",
            "Epoch 7/50\n",
            "5/5 [==============================] - 0s 9ms/step - loss: 4.0001 - mae: 1.7598\n",
            "Epoch 8/50\n",
            "5/5 [==============================] - 0s 3ms/step - loss: 3.6612 - mae: 1.6741\n",
            "Epoch 9/50\n",
            "5/5 [==============================] - 0s 6ms/step - loss: 2.3384 - mae: 1.2958\n",
            "Epoch 10/50\n",
            "5/5 [==============================] - 0s 3ms/step - loss: 1.3095 - mae: 0.9157\n",
            "Epoch 11/50\n",
            "5/5 [==============================] - 0s 3ms/step - loss: 1.0738 - mae: 0.8374\n",
            "Epoch 12/50\n",
            "5/5 [==============================] - 0s 7ms/step - loss: 1.1259 - mae: 0.8622\n",
            "Epoch 13/50\n",
            "5/5 [==============================] - 0s 5ms/step - loss: 1.1910 - mae: 0.8875\n",
            "Epoch 14/50\n",
            "5/5 [==============================] - 0s 4ms/step - loss: 1.1263 - mae: 0.8662\n",
            "Epoch 15/50\n",
            "5/5 [==============================] - 0s 4ms/step - loss: 1.0469 - mae: 0.8306\n",
            "Epoch 16/50\n",
            "5/5 [==============================] - 0s 4ms/step - loss: 0.9972 - mae: 0.8084\n",
            "Epoch 17/50\n",
            "5/5 [==============================] - 0s 5ms/step - loss: 0.9917 - mae: 0.8022\n",
            "Epoch 18/50\n",
            "5/5 [==============================] - 0s 4ms/step - loss: 0.9928 - mae: 0.8011\n",
            "Epoch 19/50\n",
            "5/5 [==============================] - 0s 4ms/step - loss: 0.9866 - mae: 0.7999\n",
            "Epoch 20/50\n",
            "5/5 [==============================] - 0s 5ms/step - loss: 0.9700 - mae: 0.7944\n",
            "Epoch 21/50\n",
            "5/5 [==============================] - 0s 8ms/step - loss: 0.9639 - mae: 0.7940\n",
            "Epoch 22/50\n",
            "5/5 [==============================] - 0s 6ms/step - loss: 0.9579 - mae: 0.7915\n",
            "Epoch 23/50\n",
            "5/5 [==============================] - 0s 6ms/step - loss: 0.9529 - mae: 0.7891\n",
            "Epoch 24/50\n",
            "5/5 [==============================] - 0s 5ms/step - loss: 0.9482 - mae: 0.7862\n",
            "Epoch 25/50\n",
            "5/5 [==============================] - 0s 9ms/step - loss: 0.9431 - mae: 0.7830\n",
            "Epoch 26/50\n",
            "5/5 [==============================] - 0s 9ms/step - loss: 0.9383 - mae: 0.7801\n",
            "Epoch 27/50\n",
            "5/5 [==============================] - 0s 6ms/step - loss: 0.9341 - mae: 0.7775\n",
            "Epoch 28/50\n",
            "5/5 [==============================] - 0s 6ms/step - loss: 0.9323 - mae: 0.7753\n",
            "Epoch 29/50\n",
            "5/5 [==============================] - 0s 10ms/step - loss: 0.9290 - mae: 0.7735\n",
            "Epoch 30/50\n",
            "5/5 [==============================] - 0s 9ms/step - loss: 0.9249 - mae: 0.7718\n",
            "Epoch 31/50\n",
            "5/5 [==============================] - 0s 5ms/step - loss: 0.9230 - mae: 0.7708\n",
            "Epoch 32/50\n",
            "5/5 [==============================] - 0s 5ms/step - loss: 0.9189 - mae: 0.7686\n",
            "Epoch 33/50\n",
            "5/5 [==============================] - 0s 8ms/step - loss: 0.9167 - mae: 0.7664\n",
            "Epoch 34/50\n",
            "5/5 [==============================] - 0s 4ms/step - loss: 0.9145 - mae: 0.7644\n",
            "Epoch 35/50\n",
            "5/5 [==============================] - 0s 5ms/step - loss: 0.9125 - mae: 0.7626\n",
            "Epoch 36/50\n",
            "5/5 [==============================] - 0s 6ms/step - loss: 0.9109 - mae: 0.7619\n",
            "Epoch 37/50\n",
            "5/5 [==============================] - 0s 6ms/step - loss: 0.9091 - mae: 0.7618\n",
            "Epoch 38/50\n",
            "5/5 [==============================] - 0s 3ms/step - loss: 0.9086 - mae: 0.7611\n",
            "Epoch 39/50\n",
            "5/5 [==============================] - 0s 3ms/step - loss: 0.9060 - mae: 0.7595\n",
            "Epoch 40/50\n",
            "5/5 [==============================] - 0s 6ms/step - loss: 0.9062 - mae: 0.7586\n",
            "Epoch 41/50\n",
            "5/5 [==============================] - 0s 7ms/step - loss: 0.9053 - mae: 0.7579\n",
            "Epoch 42/50\n",
            "5/5 [==============================] - 0s 5ms/step - loss: 0.9035 - mae: 0.7569\n",
            "Epoch 43/50\n",
            "5/5 [==============================] - 0s 5ms/step - loss: 0.9033 - mae: 0.7571\n",
            "Epoch 44/50\n",
            "5/5 [==============================] - 0s 10ms/step - loss: 0.9034 - mae: 0.7570\n",
            "Epoch 45/50\n",
            "5/5 [==============================] - 0s 16ms/step - loss: 0.9025 - mae: 0.7547\n",
            "Epoch 46/50\n",
            "5/5 [==============================] - 0s 14ms/step - loss: 0.9006 - mae: 0.7541\n",
            "Epoch 47/50\n",
            "5/5 [==============================] - 0s 5ms/step - loss: 0.8994 - mae: 0.7544\n",
            "Epoch 48/50\n",
            "5/5 [==============================] - 0s 8ms/step - loss: 0.8990 - mae: 0.7544\n",
            "Epoch 49/50\n",
            "5/5 [==============================] - 0s 7ms/step - loss: 0.9004 - mae: 0.7533\n",
            "Epoch 50/50\n",
            "5/5 [==============================] - 0s 16ms/step - loss: 0.8984 - mae: 0.7523\n"
          ]
        },
        {
          "output_type": "execute_result",
          "data": {
            "text/plain": [
              "<keras.callbacks.History at 0x7fadaca33e20>"
            ]
          },
          "metadata": {},
          "execution_count": 8
        }
      ]
    },
    {
      "cell_type": "code",
      "source": [
        "# 모델 평가\n",
        "model.evaluate(x_test, y_test)"
      ],
      "metadata": {
        "colab": {
          "base_uri": "https://localhost:8080/"
        },
        "id": "ybbDqZyKajJA",
        "outputId": "df6befa9-7fcd-46a6-f229-d05be0b4b159"
      },
      "execution_count": null,
      "outputs": [
        {
          "output_type": "stream",
          "name": "stdout",
          "text": [
            "2/2 [==============================] - 0s 6ms/step - loss: 1.0518 - mae: 0.8013\n"
          ]
        },
        {
          "output_type": "execute_result",
          "data": {
            "text/plain": [
              "[1.051770567893982, 0.8012847900390625]"
            ]
          },
          "metadata": {},
          "execution_count": 9
        }
      ]
    },
    {
      "cell_type": "code",
      "source": [
        "# 모델 예측\n",
        "x = np.array([1, 3, 5, 7, 9])\n",
        "\n",
        "model.predict(x)"
      ],
      "metadata": {
        "colab": {
          "base_uri": "https://localhost:8080/"
        },
        "outputId": "784e8000-fae9-47ed-a13a-f50a152f7e18",
        "id": "oJVBsQdzpRth"
      },
      "execution_count": null,
      "outputs": [
        {
          "output_type": "stream",
          "name": "stdout",
          "text": [
            "1/1 [==============================] - 0s 73ms/step\n"
          ]
        },
        {
          "output_type": "execute_result",
          "data": {
            "text/plain": [
              "array([[ 3.074566],\n",
              "       [ 7.034502],\n",
              "       [10.994438],\n",
              "       [14.954374],\n",
              "       [18.914312]], dtype=float32)"
            ]
          },
          "metadata": {},
          "execution_count": 10
        }
      ]
    },
    {
      "cell_type": "code",
      "source": [
        "# 학습 후 가중치와 바이어스 확인\n",
        "weight, bias = model.layers[0].weights\n",
        "\n",
        "print(f\"weight: {weight} \\n bias: {bias}\")"
      ],
      "metadata": {
        "colab": {
          "base_uri": "https://localhost:8080/"
        },
        "outputId": "b1d9ce6d-7b4d-4b23-dcec-a0dda1eab862",
        "id": "nPtwwFoHpZ7U"
      },
      "execution_count": null,
      "outputs": [
        {
          "output_type": "stream",
          "name": "stdout",
          "text": [
            "weight: <tf.Variable 'Output_Layer/kernel:0' shape=(1, 1) dtype=float32, numpy=array([[1.9799681]], dtype=float32)> \n",
            " bias: <tf.Variable 'Output_Layer/bias:0' shape=(1,) dtype=float32, numpy=array([1.0945979], dtype=float32)>\n"
          ]
        }
      ]
    },
    {
      "cell_type": "markdown",
      "source": [
        "예제 3.6 선형 회귀(파이토치)"
      ],
      "metadata": {
        "id": "t1nuRJyBXOZK"
      }
    },
    {
      "cell_type": "code",
      "source": [
        "# 예제 3.6 선형 회귀(파이토치)\n",
        "\n",
        "# 셋업\n",
        "import torch\n",
        "import torch.nn as nn\n",
        "import torch.optim as optim\n",
        "import torch.nn.init as init\n",
        "import numpy as np"
      ],
      "metadata": {
        "id": "V7_aBL1-phnt"
      },
      "execution_count": null,
      "outputs": []
    },
    {
      "cell_type": "code",
      "source": [
        "# 데이터 준비\n",
        "x_train = init.uniform_(torch.Tensor(200, 1), 0, 10)\n",
        "y_train = (2 * x_train + 1) + init.normal_(torch.FloatTensor(200, 1))\n",
        "\n",
        "print(x_train.shape, y_train.shape)"
      ],
      "metadata": {
        "colab": {
          "base_uri": "https://localhost:8080/"
        },
        "outputId": "9175b024-04d7-4bbc-ca93-8f0f56e59004",
        "id": "RlV5_ljSCN9S"
      },
      "execution_count": null,
      "outputs": [
        {
          "output_type": "stream",
          "name": "stdout",
          "text": [
            "torch.Size([200, 1]) torch.Size([200, 1])\n"
          ]
        }
      ]
    },
    {
      "cell_type": "code",
      "source": [
        "# 모델 생성\n",
        "model = nn.Sequential(\n",
        "    nn.Linear(1, 1))   # 입력 특징 1개, 출력 뉴런 1개"
      ],
      "metadata": {
        "id": "wSR7dIRTqafj"
      },
      "execution_count": null,
      "outputs": []
    },
    {
      "cell_type": "code",
      "source": [
        "# 모델 학습\n",
        "epochs = 100\n",
        "\n",
        "loss_fn = nn.L1Loss()   # 손실 함수 MAE 사용\n",
        "optimizer = optim.Adam(model.parameters(),lr=0.1)\n",
        "\n",
        "for i in range(epochs):\n",
        "    output = model(x_train)           # 출력 구함\n",
        "    loss = loss_fn(output, y_train)   # 오차 계산\n",
        "\n",
        "    optimizer.zero_grad()   # 그레디언트 초기화\n",
        "    loss.backward()         # 역전파\n",
        "    optimizer.step()        # 최적화 수행\n",
        "\n",
        "    if (i+1) % 10 == 0:\n",
        "        print(f\"epoch: {i + 1} \\tloss: {loss}\")"
      ],
      "metadata": {
        "colab": {
          "base_uri": "https://localhost:8080/"
        },
        "outputId": "3b1f900e-f6a0-402b-f125-f4320611201a",
        "id": "6zSsPYTyqeXr"
      },
      "execution_count": null,
      "outputs": [
        {
          "output_type": "stream",
          "name": "stdout",
          "text": [
            "epoch: 10 \tloss: 4.980434417724609\n",
            "epoch: 20 \tloss: 1.0660961866378784\n",
            "epoch: 30 \tloss: 1.0262762308120728\n",
            "epoch: 40 \tloss: 1.0040247440338135\n",
            "epoch: 50 \tloss: 0.8527184128761292\n",
            "epoch: 60 \tloss: 0.7826300859451294\n",
            "epoch: 70 \tloss: 0.7567226886749268\n",
            "epoch: 80 \tloss: 0.7454615831375122\n",
            "epoch: 90 \tloss: 0.7395433783531189\n",
            "epoch: 100 \tloss: 0.7383608818054199\n"
          ]
        }
      ]
    },
    {
      "cell_type": "code",
      "source": [
        "# 모델 예측\n",
        "with torch.no_grad():   # 자동 미분하지 않음\n",
        "     x_test = torch.Tensor([[3], [5], [7], [9]])\n",
        "\n",
        "     predict = model(x_test)\n",
        "\n",
        "     print(predict)"
      ],
      "metadata": {
        "colab": {
          "base_uri": "https://localhost:8080/"
        },
        "outputId": "74258343-cfc7-483e-ba34-84918ade3c2d",
        "id": "tTtNtMr5BZHa"
      },
      "execution_count": null,
      "outputs": [
        {
          "output_type": "stream",
          "name": "stdout",
          "text": [
            "tensor([[ 6.9165],\n",
            "        [10.9732],\n",
            "        [15.0299],\n",
            "        [19.0866]])\n"
          ]
        }
      ]
    },
    {
      "cell_type": "code",
      "source": [
        "# 학습 후 최종 가중치 확인\n",
        "weight, bias = model.parameters()\n",
        "\n",
        "print(f\"weight: {weight} \\n \\n bias: {bias}\")"
      ],
      "metadata": {
        "colab": {
          "base_uri": "https://localhost:8080/"
        },
        "outputId": "2e0b258e-c933-41f0-e413-88901f83f222",
        "id": "gHigqgJBAIQ2"
      },
      "execution_count": null,
      "outputs": [
        {
          "output_type": "stream",
          "name": "stdout",
          "text": [
            "weight: Parameter containing:\n",
            "tensor([[2.0284]], requires_grad=True) \n",
            " \n",
            " bias: Parameter containing:\n",
            "tensor([0.8314], requires_grad=True)\n"
          ]
        }
      ]
    }
  ]
}