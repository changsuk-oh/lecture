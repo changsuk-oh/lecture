{
  "nbformat": 4,
  "nbformat_minor": 0,
  "metadata": {
    "colab": {
      "provenance": []
    },
    "kernelspec": {
      "name": "python3",
      "display_name": "Python 3"
    },
    "language_info": {
      "name": "python"
    }
  },
  "cells": [
    {
      "cell_type": "markdown",
      "source": [
        "예제 3.7 로지스틱 회귀"
      ],
      "metadata": {
        "id": "-AwEq1mpXsx_"
      }
    },
    {
      "cell_type": "code",
      "source": [
        "# 예제 3.7 로지스틱 회귀(이진 분류)\n",
        "\n",
        "# 셋업\n",
        "import tensorflow as tf\n",
        "from tensorflow.keras.models import Sequential\n",
        "from tensorflow.keras.layers import Dense\n",
        "from tensorflow.keras.initializers import RandomNormal\n",
        "from tensorflow.keras.optimizers import Adam\n",
        "import numpy as np\n",
        "import matplotlib.pyplot as plt\n",
        "\n",
        "# 학습 데이터 준비\n",
        "x_train = np.array([[1, 1, 0], [1, 0, 0], [0, 0, 1], [0, 1, 1]])   # 학습 데이터\n",
        "y_train = np.array([[0], [0], [1], [1]])                           # 레이블\n",
        "\n",
        "# 모델 생성\n",
        "model = Sequential([\n",
        "    Dense(1,                                          # 출력층 뉴런 1개\n",
        "          activation='sigmoid',                       # sigmoid 함수 사용\n",
        "          kernel_initializer=RandomNormal(seed=77),   # 가중치 초기화\n",
        "          input_shape=(3, ))                          # 입력 특징 3개\n",
        "])"
      ],
      "metadata": {
        "id": "cRUBXXE2wy02"
      },
      "execution_count": null,
      "outputs": []
    },
    {
      "cell_type": "code",
      "source": [
        "# 모델 컴파일\n",
        "model.compile(optimizer=Adam(learning_rate=0.1),   # 학습률 0.\n",
        "              loss='binary_crossentropy')   # 손실 함수 binary_crossentropy 사용"
      ],
      "metadata": {
        "id": "IJYgSpuMxP-5"
      },
      "execution_count": null,
      "outputs": []
    },
    {
      "cell_type": "code",
      "source": [
        "# 모델 학습\n",
        "history = model.fit(x_train, y_train, epochs=30, verbose=0)   # 30회 반복"
      ],
      "metadata": {
        "id": "lQVp3qV-xz3h"
      },
      "execution_count": null,
      "outputs": []
    },
    {
      "cell_type": "code",
      "source": [
        "# 학습 결과 시각화\n",
        "epochs = range(1, len(history.history['loss']) + 1)\n",
        "\n",
        "plt.plot(epochs, history.history['loss'], color='black')\n",
        "plt.xlabel('epochs')\n",
        "plt.ylabel('loss')\n",
        "\n",
        "plt.show()"
      ],
      "metadata": {
        "colab": {
          "base_uri": "https://localhost:8080/",
          "height": 279
        },
        "outputId": "45203e47-dd4a-46ea-9fa3-93b9fc59395d",
        "id": "bHDptUgQGflA"
      },
      "execution_count": null,
      "outputs": [
        {
          "output_type": "display_data",
          "data": {
            "text/plain": [
              "<Figure size 432x288 with 1 Axes>"
            ],
            "image/png": "[encoded data removed]"
          },
          "metadata": {
            "needs_background": "light"
          }
        }
      ]
    },
    {
      "cell_type": "code",
      "source": [
        "# 모델 예측\n",
        "x_test = np.array([[1, 1, 0], [1, 0, 0], [0, 0, 1], [0, 1, 1]])  # 테스트 데이터\n",
        "y_test = np.array([[0], [0], [1], [1]])                          # 테스트 정답\n",
        "\n",
        "model.predict(x_test).round(2)   # 예측"
      ],
      "metadata": {
        "colab": {
          "base_uri": "https://localhost:8080/"
        },
        "id": "LPkkll_KxtAk",
        "outputId": "5093b09e-c9a8-4295-9826-018f35b7daba"
      },
      "execution_count": null,
      "outputs": [
        {
          "output_type": "stream",
          "name": "stdout",
          "text": [
            "1/1 [==============================] - 0s 51ms/step\n"
          ]
        },
        {
          "output_type": "execute_result",
          "data": {
            "text/plain": [
              "array([[0.08],\n",
              "       [0.08],\n",
              "       [0.92],\n",
              "       [0.93]], dtype=float32)"
            ]
          },
          "metadata": {},
          "execution_count": 18
        }
      ]
    },
    {
      "cell_type": "code",
      "source": [
        "# 학습 후 가중치와 바이어스 확인\n",
        "weights, bias = model.layers[0].get_weights()\n",
        "\n",
        "print(f\"weights: {weights.round(2)} \\n bias: {bias.round(2)}\")"
      ],
      "metadata": {
        "colab": {
          "base_uri": "https://localhost:8080/"
        },
        "id": "ArgTGGE5xtVP",
        "outputId": "d77fcf0a-7b95-42ec-cd54-f7ba376a49cf"
      },
      "execution_count": null,
      "outputs": [
        {
          "output_type": "stream",
          "name": "stdout",
          "text": [
            "weights: [[-2.48]\n",
            " [ 0.03]\n",
            " [ 2.48]] \n",
            " bias: [0.01]\n"
          ]
        }
      ]
    }
  ]
}