{
  "nbformat": 4,
  "nbformat_minor": 0,
  "metadata": {
    "colab": {
      "provenance": []
    },
    "kernelspec": {
      "name": "python3",
      "display_name": "Python 3"
    },
    "language_info": {
      "name": "python"
    }
  },
  "cells": [
    {
      "cell_type": "markdown",
      "source": [
        "예제 3.3 델타 학습법"
      ],
      "metadata": {
        "id": "kR4H78KRUAfT"
      }
    },
    {
      "cell_type": "code",
      "source": [
        "# 예제 3.3 델타 학습법 OR 연산\n",
        "\n",
        "import numpy as np\n",
        "np.random.seed(77)\n",
        "\n",
        "# sigmoid 함수 정의\n",
        "def sigmoid(net):\n",
        "    return  1 / (1 + np.exp(-net))\n",
        "\n",
        "# 뉴런 정의\n",
        "def neuron(x, w, b):\n",
        "    net = np.dot(x, w) + b   # 입력 가중합\n",
        "    return sigmoid(net)\n",
        "\n",
        "# 학습 데이터 준비\n",
        "x_train = np.array([[0, 0], [0, 1], [1, 0], [1, 1]])   # 입력 데이터\n",
        "y_train = np.array([[0], [1], [1], [1]])               # 목표치(정답)\n",
        "\n",
        "# 가중치 초기화\n",
        "w = np.random.rand(2)   # 균등 분포\n",
        "b = np.random.rand(1)\n",
        "\n",
        "print(f\"initial weights: {w.round(2)}\")\n",
        "print(f\"initial bias: {b.round(2)}\")"
      ],
      "metadata": {
        "colab": {
          "base_uri": "https://localhost:8080/"
        },
        "id": "dMuQGwVl7NEX",
        "outputId": "831ec96d-1686-446b-fbdd-315fff193b22"
      },
      "execution_count": null,
      "outputs": [
        {
          "output_type": "stream",
          "name": "stdout",
          "text": [
            "initial weights: [0.92 0.64]\n",
            "initial bias: [0.75]\n"
          ]
        }
      ]
    },
    {
      "cell_type": "code",
      "source": [
        "# 델타 학습법을 이용한 신경망 학습\n",
        "epochs = 5000         # 5,000회 반복\n",
        "learning_rate = 0.1   # 학습률 0.1\n",
        "\n",
        "for i in range(epochs):\n",
        "    loss = 0\n",
        "\n",
        "    for j in range(4):\n",
        "        output = neuron(x_train[j], w, b)          # 출력 구함\n",
        "        error = 0.5 * (y_train[j] - output) ** 2   # 제곱 오차 계산\n",
        "        w += learning_rate * (y_train[j] - output) * output * \\\n",
        "             (1 - output) * x_train[j]                   # 가중치 변경\n",
        "        b += learning_rate * (y_train[j] - output) * \\   # 바이어스 변경\n",
        "             output * (1 - output)\n",
        "        loss += error\n",
        "\n",
        "    if (i+1) % 1000 == 0:\n",
        "        print(f\"Epoch {i+1} \\t Error: {loss.round(3)}\")   # 오차 출력\n",
        "\n",
        "print(f\"\\nfinal weights: {w.round(2)}\")\n",
        "print(f\"final bias: {b.round(2)}\")"
      ],
      "metadata": {
        "colab": {
          "base_uri": "https://localhost:8080/"
        },
        "outputId": "8afa0a8c-5af2-4152-d7f7-2188b0bab0d4",
        "id": "tnqZMe5pLK3V"
      },
      "execution_count": null,
      "outputs": [
        {
          "output_type": "stream",
          "name": "stdout",
          "text": [
            "Epoch 1000 \t Error: [0.035]\n",
            "Epoch 2000 \t Error: [0.016]\n",
            "Epoch 3000 \t Error: [0.01]\n",
            "Epoch 4000 \t Error: [0.007]\n",
            "Epoch 5000 \t Error: [0.006]\n",
            "\n",
            "final weights: [5.38 5.38]\n",
            "final bias: [-2.43]\n"
          ]
        }
      ]
    },
    {
      "cell_type": "code",
      "source": [
        "# 검증(예측)\n",
        "x_test = np.array([[0, 0], [0, 1], [1, 0], [1, 1]])   # 테스트 데이터\n",
        "y_test = np.array([[0], [1], [1], [1]])               # 테스트 정답\n",
        "\n",
        "for i in range(4):\n",
        "    predict = neuron(x_test[i], w, b)   # 예측\n",
        "\n",
        "    print(f\"x: {x_test[i]}  y: {y_test[i]}  predict: {predict.round(2)}\")"
      ],
      "metadata": {
        "colab": {
          "base_uri": "https://localhost:8080/"
        },
        "id": "zJmmOUKf_ABo",
        "outputId": "044422c4-4c29-4676-9d06-4071ace7562f"
      },
      "execution_count": null,
      "outputs": [
        {
          "output_type": "stream",
          "name": "stdout",
          "text": [
            "x: [0 0]  y: [0]  predict: [0.08]\n",
            "x: [0 1]  y: [1]  predict: [0.95]\n",
            "x: [1 0]  y: [1]  predict: [0.95]\n",
            "x: [1 1]  y: [1]  predict: [1.]\n"
          ]
        }
      ]
    }
  ]
}