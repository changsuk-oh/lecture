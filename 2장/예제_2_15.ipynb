{
  "nbformat": 4,
  "nbformat_minor": 0,
  "metadata": {
    "colab": {
      "provenance": []
    },
    "kernelspec": {
      "name": "python3",
      "display_name": "Python 3"
    },
    "language_info": {
      "name": "python"
    }
  },
  "cells": [
    {
      "cell_type": "markdown",
      "source": [
        "예제 2.15 softmax 함수"
      ],
      "metadata": {
        "id": "X0q-mOf9Tgkq"
      }
    },
    {
      "cell_type": "code",
      "source": [
        "# 예제 2.15 softmax 함수\n",
        "\n",
        "# softmax\n",
        "\n",
        "import numpy as np\n",
        "\n",
        "# softmax 함수 정의\n",
        "def softmax(net):\n",
        "    return np.exp(net) / np.sum(np.exp(net))\n",
        "\n",
        "# 시그모이드 함수 정의\n",
        "def sigmoid(net):\n",
        "    return  1 / (1 + np.exp(-net))\n",
        "\n",
        "x = np.array([[1, 1, 0]])\n",
        "w = np.array([[1, 2, 3], [3, 2, 1]])\n",
        "\n",
        "net = np.matmul(x, w.T).reshape(-1)   # 입력 가중합\n",
        "\n",
        "y1 = softmax(net).round(2)   # softmax 함수 출력\n",
        "y2 = sigmoid(net).round(2)   # sigmoid 함수 출력\n",
        "\n",
        "print(f\"net: {net}\")\n",
        "print(f\"y_softmax: {y1} \\n sum of y_softmax: {np.sum(y1)}\")\n",
        "print(f\"y_sigmoid: {y2} \\n sum of y_sigmoid: {np.sum(y2).round(2)}\")"
      ],
      "metadata": {
        "colab": {
          "base_uri": "https://localhost:8080/"
        },
        "outputId": "25d6d8e9-7ca8-4b46-bfad-56f4af79e742",
        "id": "GP3pZz9Ez_Sp"
      },
      "execution_count": null,
      "outputs": [
        {
          "output_type": "stream",
          "name": "stdout",
          "text": [
            "net: [3 5]\n",
            "y_softmax: [0.12 0.88] \n",
            " sum of y_softmax: 1.0\n",
            "y_sigmoid: [0.95 0.99] \n",
            " sum of y_sigmoid: 1.94\n"
          ]
        }
      ]
    }
  ]
}