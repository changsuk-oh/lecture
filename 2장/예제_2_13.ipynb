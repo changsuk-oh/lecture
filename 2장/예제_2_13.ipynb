{
  "nbformat": 4,
  "nbformat_minor": 0,
  "metadata": {
    "colab": {
      "provenance": []
    },
    "kernelspec": {
      "name": "python3",
      "display_name": "Python 3"
    },
    "language_info": {
      "name": "python"
    }
  },
  "cells": [
    {
      "cell_type": "markdown",
      "source": [
        "예제 2.13 sigmoid 함수"
      ],
      "metadata": {
        "id": "X0q-mOf9Tgkq"
      }
    },
    {
      "cell_type": "code",
      "source": [
        "# 예제 2.13 sigmoid 함수\n",
        "\n",
        "import numpy as np\n",
        "\n",
        "# sigmoid 함수 정의\n",
        "def sigmoid(net):\n",
        "    return  1 / (1 + np.exp(-net))\n",
        "\n",
        "x = np.array([1, 2])\n",
        "w = np.array([-1, 1])\n",
        "\n",
        "net = np.dot(x, w)   # 입력 가중합\n",
        "y = sigmoid(net)     # 출력\n",
        "\n",
        "print(f\"net: {net} \\n y: {y:.2f}\")"
      ],
      "metadata": {
        "colab": {
          "base_uri": "https://localhost:8080/"
        },
        "outputId": "f9265366-5031-4122-f65f-d930db84c278",
        "id": "KXEcPo--WjOV"
      },
      "execution_count": null,
      "outputs": [
        {
          "output_type": "stream",
          "name": "stdout",
          "text": [
            "net: 1 \n",
            " y: 0.73\n"
          ]
        }
      ]
    }
  ]
}