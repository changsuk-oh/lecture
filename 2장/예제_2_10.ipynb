{
  "nbformat": 4,
  "nbformat_minor": 0,
  "metadata": {
    "colab": {
      "provenance": []
    },
    "kernelspec": {
      "name": "python3",
      "display_name": "Python 3"
    },
    "language_info": {
      "name": "python"
    }
  },
  "cells": [
    {
      "cell_type": "markdown",
      "source": [
        "예제 2.10 sign 함수"
      ],
      "metadata": {
        "id": "X0q-mOf9Tgkq"
      }
    },
    {
      "cell_type": "code",
      "source": [
        "# 예제 2.10 sign 함수(양극성 계단 함수)\n",
        "\n",
        "import numpy as np\n",
        "\n",
        "# sign 함수 정의\n",
        "def sign(net):\n",
        "    if net > 0:   # 임계치 0\n",
        "        return 1\n",
        "    elif net == 0:\n",
        "        return 0\n",
        "    else:\n",
        "        return -1\n",
        "\n",
        "x = np.array([1, 2])\n",
        "w = np.array([-1, 1])\n",
        "\n",
        "net = np.dot(x, w)   # 입력 가중합\n",
        "y = sign(net)        # 출력\n",
        "\n",
        "print(f\"net: {net} \\n y: {y}\")"
      ],
      "metadata": {
        "colab": {
          "base_uri": "https://localhost:8080/"
        },
        "outputId": "f59c933b-21cf-4928-8942-724acf89a7a2",
        "id": "rNl0JasGMXGB"
      },
      "execution_count": null,
      "outputs": [
        {
          "output_type": "stream",
          "name": "stdout",
          "text": [
            "net: 1 \n",
            " y: 1\n"
          ]
        }
      ]
    }
  ]
}