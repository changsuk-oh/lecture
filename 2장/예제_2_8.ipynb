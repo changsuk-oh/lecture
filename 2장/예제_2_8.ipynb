{
  "nbformat": 4,
  "nbformat_minor": 0,
  "metadata": {
    "colab": {
      "provenance": []
    },
    "kernelspec": {
      "name": "python3",
      "display_name": "Python 3"
    },
    "language_info": {
      "name": "python"
    }
  },
  "cells": [
    {
      "cell_type": "markdown",
      "source": [
        "예제 2.8 신경망 학습"
      ],
      "metadata": {
        "id": "uLgqU3x3S6I9"
      }
    },
    {
      "cell_type": "code",
      "source": [
        "# 예제 2.8 단층 신경망 학습(AND 연산)(파이썬)\n",
        "\n",
        "# 셋업\n",
        "import numpy as np\n",
        "np.random.seed(77)\n",
        "\n",
        "# 계단 함수 정의\n",
        "def step_function(net):\n",
        "    if net >= 0:   # 임계치 0\n",
        "        return 1\n",
        "    else:\n",
        "        return 0\n",
        "\n",
        "# 뉴런 정의\n",
        "def neuron(x, w, b):\n",
        "    net = np.dot(x, w) + b   # 입력 가중합\n",
        "    return step_function(net)\n",
        "\n",
        "# 학습 데이터 준비\n",
        "x_train = np.array([[0, 0], [0, 1], [1, 0], [1, 1]])   # 입력 데이터\n",
        "y_train = np.array([[0], [0], [0], [1]])               # 목표치(정답)\n",
        "\n",
        "# 가중치 초기화\n",
        "w = np.random.randn(2)   # 정규 분포(평균 0, 표준편차 1)\n",
        "b = np.random.randn(1)\n",
        "\n",
        "print(f\"initial weights: {w.round(2)}\")\n",
        "print(f\"initial bias: {b.round(2)}\")"
      ],
      "metadata": {
        "colab": {
          "base_uri": "https://localhost:8080/"
        },
        "outputId": "c3a6949a-d99a-4845-9382-e11dea75e8ce",
        "id": "aZFf4zf2hPKs"
      },
      "execution_count": null,
      "outputs": [
        {
          "output_type": "stream",
          "name": "stdout",
          "text": [
            "initial weights: [0.22 0.66]\n",
            "initial bias: [-0.58]\n"
          ]
        }
      ]
    },
    {
      "cell_type": "code",
      "source": [
        "# 초기 가중치의 결과 확인(AND 동작 안됨)\n",
        "x_init_test = np.array([[0, 0], [0, 1], [1, 0], [1, 1]])\n",
        "y_init_test = np.array([[0], [0], [0], [1]])\n",
        "\n",
        "for i in range(4):\n",
        "    initial_predict = neuron(x_init_test[i], w, b)\n",
        "\n",
        "    print(f\"x: {x_init_test[i]}  y: {y_init_test[i]}  predict: {initial_predict}\")"
      ],
      "metadata": {
        "colab": {
          "base_uri": "https://localhost:8080/"
        },
        "outputId": "d3840ae9-a912-4b45-c884-9d0a5a446b9f",
        "id": "HD2psSUv1g2_"
      },
      "execution_count": null,
      "outputs": [
        {
          "output_type": "stream",
          "name": "stdout",
          "text": [
            "x: [0 0]  y: [0]  predict: 0\n",
            "x: [0 1]  y: [0]  predict: 1\n",
            "x: [1 0]  y: [0]  predict: 0\n",
            "x: [1 1]  y: [1]  predict: 1\n"
          ]
        }
      ]
    },
    {
      "cell_type": "code",
      "source": [
        "# 오차를 이용한 신경망 학습\n",
        "epochs = 10            # 10회 반복\n",
        "learning_rate = 0.01   # 학습률 0.01\n",
        "\n",
        "for i in range(epochs):\n",
        "    loss = 0\n",
        "\n",
        "    for j in range(4):\n",
        "        output = neuron(x_train[j], w, b)         # 출력 구함\n",
        "        error = y_train[j] - output               # 오차(목표치 - 출력) 계산\n",
        "        w += learning_rate * error * x_train[j]   # 가중치 변경\n",
        "        b += learning_rate * error                # 바이어스 변경\n",
        "        loss += error\n",
        "\n",
        "    print(f\"Epoch {i+1} \\t Error: {loss}\")   # 에포크마다 오차 출력\n",
        "\n",
        "print(f\"\\nfinal weights: {w.round(2)}\")\n",
        "print(f\"final bias: {b.round(2)}\")"
      ],
      "metadata": {
        "colab": {
          "base_uri": "https://localhost:8080/"
        },
        "outputId": "85ba22fc-e978-4eac-c81f-e9df33b92812",
        "id": "QBFAEeXEhUl2"
      },
      "execution_count": null,
      "outputs": [
        {
          "output_type": "stream",
          "name": "stdout",
          "text": [
            "Epoch 1 \t Error: [-1]\n",
            "Epoch 2 \t Error: [-1]\n",
            "Epoch 3 \t Error: [-1]\n",
            "Epoch 4 \t Error: [-1]\n",
            "Epoch 5 \t Error: [-1]\n",
            "Epoch 6 \t Error: [0]\n",
            "Epoch 7 \t Error: [0]\n",
            "Epoch 8 \t Error: [0]\n",
            "Epoch 9 \t Error: [0]\n",
            "Epoch 10 \t Error: [0]\n",
            "\n",
            "final weights: [0.22 0.61]\n",
            "final bias: [-0.63]\n"
          ]
        }
      ]
    },
    {
      "cell_type": "code",
      "source": [
        "# 검증(예측)\n",
        "x_test = np.array([[0, 0], [0, 1], [1, 0], [1, 1]])   # 테스트 데이터\n",
        "y_test = np.array([[0], [0], [0], [1]])               # 테스트 정답\n",
        "\n",
        "for i in range(4):\n",
        "    predict = neuron(x_test[i], w, b)   # 예측\n",
        "\n",
        "    print(f\"x: {x_test[i]}  y: {y_test[i]}  predict: {predict}\")"
      ],
      "metadata": {
        "colab": {
          "base_uri": "https://localhost:8080/"
        },
        "outputId": "201ebbb5-71e0-4ef2-a084-b4c384af11b9",
        "id": "e33-n7iOhYlK"
      },
      "execution_count": null,
      "outputs": [
        {
          "output_type": "stream",
          "name": "stdout",
          "text": [
            "x: [0 0]  y: [0]  predict: 0\n",
            "x: [0 1]  y: [0]  predict: 0\n",
            "x: [1 0]  y: [0]  predict: 0\n",
            "x: [1 1]  y: [1]  predict: 1\n"
          ]
        }
      ]
    }
  ]
}