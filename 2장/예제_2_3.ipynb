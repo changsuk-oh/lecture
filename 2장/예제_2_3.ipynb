{
  "nbformat": 4,
  "nbformat_minor": 0,
  "metadata": {
    "colab": {
      "provenance": [],
      "gpuType": "T4"
    },
    "kernelspec": {
      "name": "python3",
      "display_name": "Python 3"
    },
    "language_info": {
      "name": "python"
    },
    "accelerator": "GPU"
  },
  "cells": [
    {
      "cell_type": "markdown",
      "source": [
        "예제 2.3 선형 뉴런"
      ],
      "metadata": {
        "id": "DdFBH6SwRGNv"
      }
    },
    {
      "cell_type": "code",
      "source": [
        "# 예제 2.3 선형 뉴런(파이썬) 가중치 초기화\n",
        "import numpy as np\n",
        "np.random.seed(7)\n",
        "\n",
        "# 선형 뉴런 정의\n",
        "def linear_neuron(x, w, b):\n",
        "    net = np.dot(x, w) + b\n",
        "    return net\n",
        "\n",
        "x = np.array([1, 2, 3])\n",
        "w = np.random.randn(3)   # 가중치 랜덤 초기화\n",
        "b = np.random.randn()    # 바이어스 랜덤 초기화\n",
        "\n",
        "y = linear_neuron(x, w, b)\n",
        "\n",
        "print(f\"input: {x} \\nweights: {w.round(2)} \\nbias: {b:.2f}\")\n",
        "print(f\"net: {np.dot(x, w) + b:.2f}\")\n",
        "print(f\"y: {y:.2f}\")"
      ],
      "metadata": {
        "colab": {
          "base_uri": "https://localhost:8080/"
        },
        "outputId": "0ee5942b-037b-40fb-9c49-0a3b5fc0876b",
        "id": "8iKYD7MU4pRU"
      },
      "execution_count": null,
      "outputs": [
        {
          "output_type": "stream",
          "name": "stdout",
          "text": [
            "input: [1 2 3] \n",
            "weights: [ 1.69 -0.47  0.03] \n",
            "bias: 0.41\n",
            "net: 1.26\n",
            "y: 1.26\n"
          ]
        }
      ]
    }
  ]
}