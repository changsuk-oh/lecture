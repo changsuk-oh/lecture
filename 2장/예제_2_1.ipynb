{
  "nbformat": 4,
  "nbformat_minor": 0,
  "metadata": {
    "colab": {
      "provenance": [],
      "gpuType": "T4"
    },
    "kernelspec": {
      "name": "python3",
      "display_name": "Python 3"
    },
    "language_info": {
      "name": "python"
    },
    "accelerator": "GPU"
  },
  "cells": [
    {
      "cell_type": "markdown",
      "source": [
        "예제 2.1 뉴런의 출력"
      ],
      "metadata": {
        "id": "DdFBH6SwRGNv"
      }
    },
    {
      "cell_type": "code",
      "source": [
        "# 예제 2.1 뉴런의 출력(텐서플로) 바이어스가 없는 경우\n",
        "\n",
        "import tensorflow as tf\n",
        "\n",
        "# 계단 함수 정의\n",
        "def step_function(net):\n",
        "    if net >= T:   # 임계치 T\n",
        "        return 1\n",
        "    else:\n",
        "        return 0\n",
        "\n",
        "# 뉴런 정의\n",
        "def neuron(x, w):\n",
        "    net = tf.reduce_sum(x * w)   # 입력 가중합\n",
        "    return step_function(net)\n",
        "\n",
        "T = 3   # 임계치 3\n",
        "\n",
        "x = tf.constant([1., 2., 3.])      # 입력\n",
        "w = tf.constant([1., 0.3, 0.5])    # 가중치\n",
        "\n",
        "y = neuron(x, w)\n",
        "\n",
        "print(f\"net: {tf.reduce_sum(x * w):.2f}\")\n",
        "print(f\"y: {y}\")"
      ],
      "metadata": {
        "colab": {
          "base_uri": "https://localhost:8080/"
        },
        "outputId": "ad4c9ea3-fd2e-478c-ffae-ea4f13b623fa",
        "id": "4ORUcaN8mnlW"
      },
      "execution_count": null,
      "outputs": [
        {
          "output_type": "stream",
          "name": "stdout",
          "text": [
            "net: 3.10\n",
            "y: 1\n"
          ]
        }
      ]
    }
  ]
}