{
  "nbformat": 4,
  "nbformat_minor": 0,
  "metadata": {
    "colab": {
      "provenance": []
    },
    "kernelspec": {
      "name": "python3",
      "display_name": "Python 3"
    },
    "language_info": {
      "name": "python"
    }
  },
  "cells": [
    {
      "cell_type": "markdown",
      "source": [
        "예제 2.12 Leaky ReLU / ELU 함수"
      ],
      "metadata": {
        "id": "X0q-mOf9Tgkq"
      }
    },
    {
      "cell_type": "code",
      "source": [
        "# 예제 2.12(a) Leaky ReLU 함수\n",
        "\n",
        "# LeakyReLU 함수 정의\n",
        "def leaky_relu(net):\n",
        "    if net >= 0:\n",
        "        return net\n",
        "    else:\n",
        "        return 0.01 * net\n",
        "\n",
        "print(f\"net: -2 \\t y: {leaky_relu(-2)}\")\n",
        "print(f\"net: -5 \\t y: {leaky_relu(-5)}\")"
      ],
      "metadata": {
        "colab": {
          "base_uri": "https://localhost:8080/"
        },
        "outputId": "93d822c2-5a89-468e-e4b1-36ebbb0a090c",
        "id": "B5chNW8sIth3"
      },
      "execution_count": null,
      "outputs": [
        {
          "output_type": "stream",
          "name": "stdout",
          "text": [
            "net: -2 \t y: -0.02\n",
            "net: -5 \t y: -0.05\n"
          ]
        }
      ]
    },
    {
      "cell_type": "code",
      "source": [
        "# 예제 2.12(b) ELU 함수 값\n",
        "\n",
        "import numpy as np\n",
        "\n",
        "# ELU 함수 정의\n",
        "def elu(net):\n",
        "    if net >= 0:\n",
        "        return net\n",
        "    else:\n",
        "        return np.exp(net) - 1\n",
        "\n",
        "print(f\"net: -2 \\t y: {elu(-2):.2f}\")\n",
        "print(f\"net: -5 \\t y: {elu(-5):.2f}\")"
      ],
      "metadata": {
        "colab": {
          "base_uri": "https://localhost:8080/"
        },
        "outputId": "34cc840c-35b0-4d9b-cf93-e4c01c4a2362",
        "id": "gu0ey8vzDFUN"
      },
      "execution_count": null,
      "outputs": [
        {
          "output_type": "stream",
          "name": "stdout",
          "text": [
            "net: -2 \t y: -0.86\n",
            "net: -5 \t y: -0.99\n"
          ]
        }
      ]
    }
  ]
}