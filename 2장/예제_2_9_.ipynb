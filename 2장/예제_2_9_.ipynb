{
  "nbformat": 4,
  "nbformat_minor": 0,
  "metadata": {
    "colab": {
      "provenance": []
    },
    "kernelspec": {
      "name": "python3",
      "display_name": "Python 3"
    },
    "language_info": {
      "name": "python"
    }
  },
  "cells": [
    {
      "cell_type": "markdown",
      "source": [
        "예제 2.9 단극성 계단 함수"
      ],
      "metadata": {
        "id": "X0q-mOf9Tgkq"
      }
    },
    {
      "cell_type": "code",
      "source": [
        "# 예제 2.9 단극성 계단 함수\n",
        "\n",
        "import numpy as np\n",
        "\n",
        "# 단극성 계단 함수 정의\n",
        "def unipolar_step(net):\n",
        "    if net >= 2:   # 임계치 2\n",
        "        return 1\n",
        "    else:\n",
        "        return 0\n",
        "\n",
        "x = np.array([1, 2])\n",
        "w = np.array([-1, 1])\n",
        "\n",
        "net = np.dot(x, w)       # 입력 가중합\n",
        "y = unipolar_step(net)   # 출력\n",
        "\n",
        "print(f\"net: {net} \\n y: {y}\")"
      ],
      "metadata": {
        "colab": {
          "base_uri": "https://localhost:8080/"
        },
        "outputId": "94e2c144-19f5-4674-a698-c49f0427377c",
        "id": "wGFunnIQ5ncP"
      },
      "execution_count": null,
      "outputs": [
        {
          "output_type": "stream",
          "name": "stdout",
          "text": [
            "net: 1 \n",
            " y: 0\n"
          ]
        }
      ]
    }
  ]
}