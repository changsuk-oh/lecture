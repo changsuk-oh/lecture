{
  "nbformat": 4,
  "nbformat_minor": 0,
  "metadata": {
    "colab": {
      "provenance": [],
      "gpuType": "T4"
    },
    "kernelspec": {
      "name": "python3",
      "display_name": "Python 3"
    },
    "language_info": {
      "name": "python"
    },
    "accelerator": "GPU"
  },
  "cells": [
    {
      "cell_type": "markdown",
      "source": [
        "예제 2.5 단층 신경망"
      ],
      "metadata": {
        "id": "XEy24r2XSOVh"
      }
    },
    {
      "cell_type": "code",
      "source": [
        "# 예제 2.5 단층 신경망을 이용한 분류\n",
        "\n",
        "# 셋업\n",
        "import tensorflow as tf\n",
        "from tensorflow.keras import Sequential\n",
        "from tensorflow.keras.layers import Dense, Flatten\n",
        "\n",
        "# 모델 생성\n",
        "model = Sequential([\n",
        "    Flatten(input_shape=(3, 3)),    # 2차원 패턴을 1차원 벡터로 변환\n",
        "    Dense(2, name='Output_Layer')   # 출력층 뉴런 2개\n",
        "])"
      ],
      "metadata": {
        "id": "GZudWFf2DA3E"
      },
      "execution_count": null,
      "outputs": []
    },
    {
      "cell_type": "code",
      "source": [
        "# 모델 구조 요약\n",
        "model.summary()"
      ],
      "metadata": {
        "colab": {
          "base_uri": "https://localhost:8080/"
        },
        "id": "3VYRIHmTDLQd",
        "outputId": "572c180c-722c-43b8-b102-3e60bdf068d1"
      },
      "execution_count": null,
      "outputs": [
        {
          "output_type": "stream",
          "name": "stdout",
          "text": [
            "Model: \"sequential\"\n",
            "_________________________________________________________________\n",
            " Layer (type)                Output Shape              Param #   \n",
            "=================================================================\n",
            " flatten (Flatten)           (None, 9)                 0         \n",
            "                                                                 \n",
            " Output_Layer (Dense)        (None, 2)                 20        \n",
            "                                                                 \n",
            "=================================================================\n",
            "Total params: 20 (80.00 Byte)\n",
            "Trainable params: 20 (80.00 Byte)\n",
            "Non-trainable params: 0 (0.00 Byte)\n",
            "_________________________________________________________________\n"
          ]
        }
      ]
    }
  ]
}