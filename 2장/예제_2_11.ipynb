{
  "nbformat": 4,
  "nbformat_minor": 0,
  "metadata": {
    "colab": {
      "provenance": []
    },
    "kernelspec": {
      "name": "python3",
      "display_name": "Python 3"
    },
    "language_info": {
      "name": "python"
    }
  },
  "cells": [
    {
      "cell_type": "markdown",
      "source": [
        "예제 2.11 ReLU 함수"
      ],
      "metadata": {
        "id": "X0q-mOf9Tgkq"
      }
    },
    {
      "cell_type": "code",
      "source": [
        "# 예제 2.11 ReLU 함수\n",
        "\n",
        "import numpy as np\n",
        "\n",
        "# ReLU 함수 정의\n",
        "def relu(net):\n",
        "    if net >= 0:\n",
        "        return net\n",
        "    else:\n",
        "        return 0\n",
        "\n",
        "x = np.array([1, -2])\n",
        "w = np.array([-1, 1])\n",
        "\n",
        "net = np.dot(x, w)   # 입력 가중합\n",
        "y = relu(net)        # 출력\n",
        "\n",
        "print(f\"net: {net} \\n y: {y}\")"
      ],
      "metadata": {
        "colab": {
          "base_uri": "https://localhost:8080/"
        },
        "outputId": "2716a298-8fb1-4f2d-b3bd-4b9d3c3a4741",
        "id": "BBR_Xl9RB3eL"
      },
      "execution_count": null,
      "outputs": [
        {
          "output_type": "stream",
          "name": "stdout",
          "text": [
            "net: -3 \n",
            " y: 0\n"
          ]
        }
      ]
    }
  ]
}