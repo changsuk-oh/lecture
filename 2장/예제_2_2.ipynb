{
  "nbformat": 4,
  "nbformat_minor": 0,
  "metadata": {
    "colab": {
      "provenance": [],
      "gpuType": "T4"
    },
    "kernelspec": {
      "name": "python3",
      "display_name": "Python 3"
    },
    "language_info": {
      "name": "python"
    },
    "accelerator": "GPU"
  },
  "cells": [
    {
      "cell_type": "markdown",
      "source": [
        "예제 2.2 바이어스를 고려한 뉴런"
      ],
      "metadata": {
        "id": "DdFBH6SwRGNv"
      }
    },
    {
      "cell_type": "code",
      "source": [
        "# 예제 2.2 뉴런의 출력(파이토치) 바이어스가 있는 경우\n",
        "\n",
        "import torch\n",
        "\n",
        "# 계단 함수 정의\n",
        "def step_function(net):\n",
        "    if net >= T:   # 임계치 T\n",
        "        return 1\n",
        "    else:\n",
        "        return 0\n",
        "\n",
        "# 뉴런 정의\n",
        "def neuron(x, w, b):\n",
        "    net = torch.sum(x * w) + b   # 가중합\n",
        "    return step_function(net)\n",
        "\n",
        "T = 3   # 임계치 3\n",
        "\n",
        "x = torch.tensor([1., 2., 3.])    # 입력\n",
        "w = torch.tensor([1, 0.3, 0.5])   # 가중치\n",
        "b = torch.tensor(-0.5)            # 바이어스\n",
        "\n",
        "y = neuron(x, w, b)\n",
        "\n",
        "print(f\"net: {torch.sum(x * w) + b:.2f}\")\n",
        "print(f\"y: {y}\")"
      ],
      "metadata": {
        "colab": {
          "base_uri": "https://localhost:8080/"
        },
        "outputId": "348cf674-2db2-43b3-a9c1-f515885421be",
        "id": "pjfPmY6yqw74"
      },
      "execution_count": null,
      "outputs": [
        {
          "output_type": "stream",
          "name": "stdout",
          "text": [
            "net: 2.60\n",
            "y: 0\n"
          ]
        }
      ]
    }
  ]
}