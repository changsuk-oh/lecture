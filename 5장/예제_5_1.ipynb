{
  "nbformat": 4,
  "nbformat_minor": 0,
  "metadata": {
    "colab": {
      "provenance": []
    },
    "kernelspec": {
      "name": "python3",
      "display_name": "Python 3"
    },
    "language_info": {
      "name": "python"
    }
  },
  "cells": [
    {
      "cell_type": "markdown",
      "source": [
        "예제 5.1 파라미터 수"
      ],
      "metadata": {
        "id": "Y13Vos9Jdk-9"
      }
    },
    {
      "cell_type": "code",
      "execution_count": null,
      "metadata": {
        "colab": {
          "base_uri": "https://localhost:8080/"
        },
        "id": "vpBraiILUSmb",
        "outputId": "c69039dc-cde0-4e7a-dddf-d61cc24ee052"
      },
      "outputs": [
        {
          "name": "stdout",
          "output_type": "stream",
          "text": [
            "Model: \"sequential\"\n",
            "_________________________________________________________________\n",
            " Layer (type)                Output Shape              Param #   \n",
            "=================================================================\n",
            " Input_Layer (Flatten)       (None, 784)               0         \n",
            "                                                                 \n",
            " Hidden_Layer (Dense)        (None, 100)               78400     \n",
            "                                                                 \n",
            " Output_Layer (Dense)        (None, 10)                1000      \n",
            "                                                                 \n",
            "=================================================================\n",
            "Total params: 79,400\n",
            "Trainable params: 79,400\n",
            "Non-trainable params: 0\n",
            "_________________________________________________________________\n"
          ]
        }
      ],
      "source": [
        "# 예제 5.1 (a) 가중치 수(3계층 구조, 바이어스 없는 경우)\n",
        "\n",
        "import tensorflow as tf\n",
        "from tensorflow.keras import Sequential\n",
        "from tensorflow.keras.layers import Dense, Flatten\n",
        "\n",
        "model = Sequential([\n",
        "    Flatten(input_shape=(28, 28), name='Input_Layer'),\n",
        "    Dense(100, activation='relu', use_bias=False, name='Hidden_Layer'),\n",
        "    Dense(10, activation='softmax', use_bias=False, name='Output_Layer')\n",
        "])\n",
        "\n",
        "model.summary()"
      ]
    },
    {
      "cell_type": "code",
      "execution_count": null,
      "metadata": {
        "colab": {
          "base_uri": "https://localhost:8080/"
        },
        "id": "PdNLTg7MWXY9",
        "outputId": "f45c07c7-373d-4ef1-ebed-e3016d89d942"
      },
      "outputs": [
        {
          "name": "stdout",
          "output_type": "stream",
          "text": [
            "Model: \"sequential\"\n",
            "_________________________________________________________________\n",
            " Layer (type)                Output Shape              Param #   \n",
            "=================================================================\n",
            " dense (Dense)               (None, 4096)              16777216  \n",
            "                                                                 \n",
            " dense_1 (Dense)             (None, 1000)              4096000   \n",
            "                                                                 \n",
            "=================================================================\n",
            "Total params: 20,873,216\n",
            "Trainable params: 20,873,216\n",
            "Non-trainable params: 0\n",
            "_________________________________________________________________\n"
          ]
        }
      ],
      "source": [
        "# 예제 5.1 (b) 가중치 수(VGG의 마지막 3계층 구조, 바이어스 없는 경우)\n",
        "\n",
        "import tensorflow as tf\n",
        "from tensorflow.keras import Sequential\n",
        "from tensorflow.keras.layers import Dense\n",
        "\n",
        "model = Sequential([\n",
        "    Dense(4096, activation='relu', use_bias=False, input_shape=(4096, )),\n",
        "    Dense(1000, activation='softmax', use_bias=False )\n",
        "])\n",
        "\n",
        "model.summary()"
      ]
    }
  ]
}